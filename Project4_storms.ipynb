{
  "cells": [
    {
      "cell_type": "markdown",
      "metadata": {
        "id": "6-Ni2RHiYQ4L"
      },
      "source": [
        "<a href=\"https://colab.research.google.com/github/johnryantaylor/QCES/blob/main/Project4_storms.ipynb\" target=\"_parent\"><img src=\"https://colab.research.google.com/assets/colab-badge.svg\" alt=\"Open In Colab\"/></a>"
      ]
    },
    {
      "cell_type": "markdown",
      "metadata": {
        "id": "TmklfRRuYQ4M"
      },
      "source": [
        "# Project 4: Storms\n",
        "In this project, we will use Dedalus to solve the 2-layer quasi-geostrophic equations to model the development of atmospheric storm systems.\n",
        "\n",
        "The two-layer quasi-geostrophic (QG) equations describe the motion of two vertically-stacked shallow layers of fluid in the limit where the Rossby number, $Ro=U/fL$ is small, where $U$ is a characteristic velocity scale, $L$ is a characteristic horizontal lengthscale, and $f$ is the Coriolis parameter. Here, we will use `1` to refer to quantitites in the upper layer and `2` to refer to quantities in the lower layer.\n",
        "\n",
        "The fluid in the upper layer is lighter than the fluid in the lower layer (such that $\\rho_1<\\rho_2$). When the interface separating the upper and lower layers isn't flat, the varying thicknesses of the upper and lower layers implies that there are horizontal gradients in the hydrostatic pressure. When the Rossby number is small, $Ro\\ll 1$, the flow will tend to be close to geostrophic balance a velocity difference between the upper and lower layer that balances the horizontal pressure gradients.\n",
        "\n",
        "Student tasks are in [Section 1.5](#section1pt5), [Section 2.3](#section2pt3), and [Section 3.1](#section3pt1)."
      ]
    },
    {
      "cell_type": "markdown",
      "source": [
        "# Setup\n",
        "I need to set up the environment, as it's missing in the following code\n",
        "\n",
        "---\n",
        "\n"
      ],
      "metadata": {
        "id": "vJXbAOgoYWlR"
      }
    },
    {
      "cell_type": "code",
      "source": [
        "# Set environment variables for best performance\n",
        "%env OMP_NUM_THREADS=1\n",
        "%env NUMEXPR_MAX_THREADS=1\n",
        "\n",
        "# Minimize logging output\n",
        "import logging\n",
        "logging.disable(logging.DEBUG)\n",
        "\n",
        "# Check if running on google colab\n",
        "import os\n",
        "using_google_colab = bool(os.getenv(\"COLAB_RELEASE_TAG\"))\n",
        "\n",
        "# Check for Dedalus\n",
        "try:\n",
        "    import dedalus.public as de\n",
        "    print(\"Dedalus already installed :)\")\n",
        "except:\n",
        "    print(\"Dedalus not installed yet.\")\n",
        "    if using_google_colab:\n",
        "        print(\"Installing for Google Colab.\")\n",
        "        print()\n",
        "        # Step 1: Install FFTW\n",
        "        !apt-get install libfftw3-dev\n",
        "        !apt-get install libfftw3-mpi-dev\n",
        "        # Step 2: Set paths for Dedalus installation\n",
        "        import os\n",
        "        os.environ['MPI_INCLUDE_PATH'] = \"/usr/lib/x86_64-linux-gnu/openmpi/include\"\n",
        "        os.environ['MPI_LIBRARY_PATH'] = \"/usr/lib/x86_64-linux-gnu\"\n",
        "        os.environ['FFTW_INCLUDE_PATH'] = \"/usr/include\"\n",
        "        os.environ['FFTW_LIBRARY_PATH'] = \"/usr/lib/x86_64-linux-gnu\"\n",
        "        # Step 3: Install Dedalus using pip\n",
        "        !pip3 install cython \"mpi4py<4.0\" numpy setuptools wheel\n",
        "        !CC=mpicc pip3 install --no-cache --no-build-isolation http://github.com/dedalusproject/dedalus/zipball/master/\n",
        "        !pip3 install -q ipympl\n",
        "        # Step 4: Check installation\n",
        "        print()\n",
        "        try:\n",
        "            import dedalus.public as de\n",
        "            print(\"Dedalus successfully installed :)\")\n",
        "        except:\n",
        "            print(\"Error installing Dedalus :(\")\n",
        "            raise\n",
        "    else:\n",
        "        print(\"See website for installation instructions:\")\n",
        "        print(\"https://dedalus-project.readthedocs.io/en/latest/pages/installation.html\")\n",
        "\n",
        "# Setup interactive matplotlib\n",
        "if using_google_colab:\n",
        "    from google.colab import output\n",
        "    output.enable_custom_widget_manager()"
      ],
      "metadata": {
        "colab": {
          "base_uri": "https://localhost:8080/"
        },
        "id": "KtuVD7RIYoYT",
        "outputId": "0e1dc2c4-9361-4692-ce35-ed370795abd2"
      },
      "execution_count": 1,
      "outputs": [
        {
          "output_type": "stream",
          "name": "stdout",
          "text": [
            "env: OMP_NUM_THREADS=1\n",
            "env: NUMEXPR_MAX_THREADS=1\n",
            "Dedalus not installed yet.\n",
            "Installing for Google Colab.\n",
            "\n",
            "Reading package lists... Done\n",
            "Building dependency tree... Done\n",
            "Reading state information... Done\n",
            "The following additional packages will be installed:\n",
            "  libfftw3-bin libfftw3-double3 libfftw3-long3 libfftw3-quad3 libfftw3-single3\n",
            "Suggested packages:\n",
            "  libfftw3-doc\n",
            "The following NEW packages will be installed:\n",
            "  libfftw3-bin libfftw3-dev libfftw3-double3 libfftw3-long3 libfftw3-quad3 libfftw3-single3\n",
            "0 upgraded, 6 newly installed, 0 to remove and 49 not upgraded.\n",
            "Need to get 4,654 kB of archives.\n",
            "After this operation, 24.7 MB of additional disk space will be used.\n",
            "Get:1 http://archive.ubuntu.com/ubuntu jammy/main amd64 libfftw3-double3 amd64 3.3.8-2ubuntu8 [770 kB]\n",
            "Get:2 http://archive.ubuntu.com/ubuntu jammy/main amd64 libfftw3-long3 amd64 3.3.8-2ubuntu8 [335 kB]\n",
            "Get:3 http://archive.ubuntu.com/ubuntu jammy/main amd64 libfftw3-quad3 amd64 3.3.8-2ubuntu8 [614 kB]\n",
            "Get:4 http://archive.ubuntu.com/ubuntu jammy/main amd64 libfftw3-single3 amd64 3.3.8-2ubuntu8 [800 kB]\n",
            "Get:5 http://archive.ubuntu.com/ubuntu jammy/main amd64 libfftw3-bin amd64 3.3.8-2ubuntu8 [35.5 kB]\n",
            "Get:6 http://archive.ubuntu.com/ubuntu jammy/main amd64 libfftw3-dev amd64 3.3.8-2ubuntu8 [2,101 kB]\n",
            "Fetched 4,654 kB in 1s (7,366 kB/s)\n",
            "Selecting previously unselected package libfftw3-double3:amd64.\n",
            "(Reading database ... 123635 files and directories currently installed.)\n",
            "Preparing to unpack .../0-libfftw3-double3_3.3.8-2ubuntu8_amd64.deb ...\n",
            "Unpacking libfftw3-double3:amd64 (3.3.8-2ubuntu8) ...\n",
            "Selecting previously unselected package libfftw3-long3:amd64.\n",
            "Preparing to unpack .../1-libfftw3-long3_3.3.8-2ubuntu8_amd64.deb ...\n",
            "Unpacking libfftw3-long3:amd64 (3.3.8-2ubuntu8) ...\n",
            "Selecting previously unselected package libfftw3-quad3:amd64.\n",
            "Preparing to unpack .../2-libfftw3-quad3_3.3.8-2ubuntu8_amd64.deb ...\n",
            "Unpacking libfftw3-quad3:amd64 (3.3.8-2ubuntu8) ...\n",
            "Selecting previously unselected package libfftw3-single3:amd64.\n",
            "Preparing to unpack .../3-libfftw3-single3_3.3.8-2ubuntu8_amd64.deb ...\n",
            "Unpacking libfftw3-single3:amd64 (3.3.8-2ubuntu8) ...\n",
            "Selecting previously unselected package libfftw3-bin.\n",
            "Preparing to unpack .../4-libfftw3-bin_3.3.8-2ubuntu8_amd64.deb ...\n",
            "Unpacking libfftw3-bin (3.3.8-2ubuntu8) ...\n",
            "Selecting previously unselected package libfftw3-dev:amd64.\n",
            "Preparing to unpack .../5-libfftw3-dev_3.3.8-2ubuntu8_amd64.deb ...\n",
            "Unpacking libfftw3-dev:amd64 (3.3.8-2ubuntu8) ...\n",
            "Setting up libfftw3-single3:amd64 (3.3.8-2ubuntu8) ...\n",
            "Setting up libfftw3-long3:amd64 (3.3.8-2ubuntu8) ...\n",
            "Setting up libfftw3-quad3:amd64 (3.3.8-2ubuntu8) ...\n",
            "Setting up libfftw3-double3:amd64 (3.3.8-2ubuntu8) ...\n",
            "Setting up libfftw3-bin (3.3.8-2ubuntu8) ...\n",
            "Setting up libfftw3-dev:amd64 (3.3.8-2ubuntu8) ...\n",
            "Processing triggers for man-db (2.10.2-1) ...\n",
            "Processing triggers for libc-bin (2.35-0ubuntu3.4) ...\n",
            "/sbin/ldconfig.real: /usr/local/lib/libur_adapter_opencl.so.0 is not a symbolic link\n",
            "\n",
            "/sbin/ldconfig.real: /usr/local/lib/libtbbmalloc.so.2 is not a symbolic link\n",
            "\n",
            "/sbin/ldconfig.real: /usr/local/lib/libur_loader.so.0 is not a symbolic link\n",
            "\n",
            "/sbin/ldconfig.real: /usr/local/lib/libumf.so.0 is not a symbolic link\n",
            "\n",
            "/sbin/ldconfig.real: /usr/local/lib/libtcm.so.1 is not a symbolic link\n",
            "\n",
            "/sbin/ldconfig.real: /usr/local/lib/libtbb.so.12 is not a symbolic link\n",
            "\n",
            "/sbin/ldconfig.real: /usr/local/lib/libtbbbind_2_0.so.3 is not a symbolic link\n",
            "\n",
            "/sbin/ldconfig.real: /usr/local/lib/libtcm_debug.so.1 is not a symbolic link\n",
            "\n",
            "/sbin/ldconfig.real: /usr/local/lib/libur_adapter_level_zero.so.0 is not a symbolic link\n",
            "\n",
            "/sbin/ldconfig.real: /usr/local/lib/libtbbbind_2_5.so.3 is not a symbolic link\n",
            "\n",
            "/sbin/ldconfig.real: /usr/local/lib/libtbbbind.so.3 is not a symbolic link\n",
            "\n",
            "/sbin/ldconfig.real: /usr/local/lib/libhwloc.so.15 is not a symbolic link\n",
            "\n",
            "/sbin/ldconfig.real: /usr/local/lib/libtbbmalloc_proxy.so.2 is not a symbolic link\n",
            "\n",
            "Reading package lists... Done\n",
            "Building dependency tree... Done\n",
            "Reading state information... Done\n",
            "The following additional packages will be installed:\n",
            "  libfftw3-mpi3\n",
            "Suggested packages:\n",
            "  libfftw3-doc\n",
            "The following NEW packages will be installed:\n",
            "  libfftw3-mpi-dev libfftw3-mpi3\n",
            "0 upgraded, 2 newly installed, 0 to remove and 49 not upgraded.\n",
            "Need to get 102 kB of archives.\n",
            "After this operation, 1,052 kB of additional disk space will be used.\n",
            "Get:1 http://archive.ubuntu.com/ubuntu jammy/universe amd64 libfftw3-mpi3 amd64 3.3.8-2ubuntu8 [48.9 kB]\n",
            "Get:2 http://archive.ubuntu.com/ubuntu jammy/universe amd64 libfftw3-mpi-dev amd64 3.3.8-2ubuntu8 [53.3 kB]\n",
            "Fetched 102 kB in 0s (629 kB/s)\n",
            "Selecting previously unselected package libfftw3-mpi3:amd64.\n",
            "(Reading database ... 123738 files and directories currently installed.)\n",
            "Preparing to unpack .../libfftw3-mpi3_3.3.8-2ubuntu8_amd64.deb ...\n",
            "Unpacking libfftw3-mpi3:amd64 (3.3.8-2ubuntu8) ...\n",
            "Selecting previously unselected package libfftw3-mpi-dev:amd64.\n",
            "Preparing to unpack .../libfftw3-mpi-dev_3.3.8-2ubuntu8_amd64.deb ...\n",
            "Unpacking libfftw3-mpi-dev:amd64 (3.3.8-2ubuntu8) ...\n",
            "Setting up libfftw3-mpi3:amd64 (3.3.8-2ubuntu8) ...\n",
            "Setting up libfftw3-mpi-dev:amd64 (3.3.8-2ubuntu8) ...\n",
            "Processing triggers for libc-bin (2.35-0ubuntu3.4) ...\n",
            "/sbin/ldconfig.real: /usr/local/lib/libur_adapter_opencl.so.0 is not a symbolic link\n",
            "\n",
            "/sbin/ldconfig.real: /usr/local/lib/libtbbmalloc.so.2 is not a symbolic link\n",
            "\n",
            "/sbin/ldconfig.real: /usr/local/lib/libur_loader.so.0 is not a symbolic link\n",
            "\n",
            "/sbin/ldconfig.real: /usr/local/lib/libumf.so.0 is not a symbolic link\n",
            "\n",
            "/sbin/ldconfig.real: /usr/local/lib/libtcm.so.1 is not a symbolic link\n",
            "\n",
            "/sbin/ldconfig.real: /usr/local/lib/libtbb.so.12 is not a symbolic link\n",
            "\n",
            "/sbin/ldconfig.real: /usr/local/lib/libtbbbind_2_0.so.3 is not a symbolic link\n",
            "\n",
            "/sbin/ldconfig.real: /usr/local/lib/libtcm_debug.so.1 is not a symbolic link\n",
            "\n",
            "/sbin/ldconfig.real: /usr/local/lib/libur_adapter_level_zero.so.0 is not a symbolic link\n",
            "\n",
            "/sbin/ldconfig.real: /usr/local/lib/libtbbbind_2_5.so.3 is not a symbolic link\n",
            "\n",
            "/sbin/ldconfig.real: /usr/local/lib/libtbbbind.so.3 is not a symbolic link\n",
            "\n",
            "/sbin/ldconfig.real: /usr/local/lib/libhwloc.so.15 is not a symbolic link\n",
            "\n",
            "/sbin/ldconfig.real: /usr/local/lib/libtbbmalloc_proxy.so.2 is not a symbolic link\n",
            "\n",
            "Requirement already satisfied: cython in /usr/local/lib/python3.10/dist-packages (3.0.11)\n",
            "Collecting mpi4py<4.0\n",
            "  Downloading mpi4py-3.1.6.tar.gz (2.4 MB)\n",
            "\u001b[2K     \u001b[90m━━━━━━━━━━━━━━━━━━━━━━━━━━━━━━━━━━━━━━━━\u001b[0m \u001b[32m2.4/2.4 MB\u001b[0m \u001b[31m24.5 MB/s\u001b[0m eta \u001b[36m0:00:00\u001b[0m\n",
            "\u001b[?25h  Installing build dependencies ... \u001b[?25l\u001b[?25hdone\n",
            "  Getting requirements to build wheel ... \u001b[?25l\u001b[?25hdone\n",
            "  Preparing metadata (pyproject.toml) ... \u001b[?25l\u001b[?25hdone\n",
            "Requirement already satisfied: numpy in /usr/local/lib/python3.10/dist-packages (1.26.4)\n",
            "Requirement already satisfied: setuptools in /usr/local/lib/python3.10/dist-packages (75.1.0)\n",
            "Requirement already satisfied: wheel in /usr/local/lib/python3.10/dist-packages (0.45.1)\n",
            "Building wheels for collected packages: mpi4py\n",
            "  Building wheel for mpi4py (pyproject.toml) ... \u001b[?25l\u001b[?25hdone\n",
            "  Created wheel for mpi4py: filename=mpi4py-3.1.6-cp310-cp310-linux_x86_64.whl size=2746304 sha256=ba5f8408ca4824dadfc870af6869567918e3a709f124fdc278dc93933b7bcc65\n",
            "  Stored in directory: /root/.cache/pip/wheels/4c/ca/89/8fc1fb1c620afca13bb41c630b1f948bbf446e0aaa4b762e10\n",
            "Successfully built mpi4py\n",
            "Installing collected packages: mpi4py\n",
            "Successfully installed mpi4py-3.1.6\n",
            "Collecting http://github.com/dedalusproject/dedalus/zipball/master/\n",
            "  Downloading http://github.com/dedalusproject/dedalus/zipball/master/\n",
            "\u001b[2K     \u001b[32m|\u001b[0m \u001b[32m24.5 MB\u001b[0m \u001b[31m25.5 MB/s\u001b[0m \u001b[33m0:00:00\u001b[0m\n",
            "\u001b[?25h  Preparing metadata (pyproject.toml) ... \u001b[?25l\u001b[?25hdone\n",
            "Collecting docopt (from dedalus==3.0.3)\n",
            "  Downloading docopt-0.6.2.tar.gz (25 kB)\n",
            "  Preparing metadata (setup.py) ... \u001b[?25l\u001b[?25hdone\n",
            "Requirement already satisfied: h5py>=3.0.0 in /usr/local/lib/python3.10/dist-packages (from dedalus==3.0.3) (3.12.1)\n",
            "Requirement already satisfied: matplotlib in /usr/local/lib/python3.10/dist-packages (from dedalus==3.0.3) (3.8.0)\n",
            "Requirement already satisfied: mpi4py>=2.0.0 in /usr/local/lib/python3.10/dist-packages (from dedalus==3.0.3) (3.1.6)\n",
            "Requirement already satisfied: numexpr in /usr/local/lib/python3.10/dist-packages (from dedalus==3.0.3) (2.10.2)\n",
            "Requirement already satisfied: numpy>=1.20.0 in /usr/local/lib/python3.10/dist-packages (from dedalus==3.0.3) (1.26.4)\n",
            "Collecting py (from dedalus==3.0.3)\n",
            "  Downloading py-1.11.0-py2.py3-none-any.whl.metadata (2.8 kB)\n",
            "Requirement already satisfied: pytest in /usr/local/lib/python3.10/dist-packages (from dedalus==3.0.3) (8.3.4)\n",
            "Collecting pytest-benchmark (from dedalus==3.0.3)\n",
            "  Downloading pytest_benchmark-5.1.0-py3-none-any.whl.metadata (25 kB)\n",
            "Collecting pytest-cov (from dedalus==3.0.3)\n",
            "  Downloading pytest_cov-6.0.0-py3-none-any.whl.metadata (27 kB)\n",
            "Collecting pytest-parallel (from dedalus==3.0.3)\n",
            "  Downloading pytest_parallel-0.1.1-py3-none-any.whl.metadata (3.0 kB)\n",
            "Requirement already satisfied: scipy>=1.4.0 in /usr/local/lib/python3.10/dist-packages (from dedalus==3.0.3) (1.13.1)\n",
            "Requirement already satisfied: xarray in /usr/local/lib/python3.10/dist-packages (from dedalus==3.0.3) (2024.11.0)\n",
            "Requirement already satisfied: contourpy>=1.0.1 in /usr/local/lib/python3.10/dist-packages (from matplotlib->dedalus==3.0.3) (1.3.1)\n",
            "Requirement already satisfied: cycler>=0.10 in /usr/local/lib/python3.10/dist-packages (from matplotlib->dedalus==3.0.3) (0.12.1)\n",
            "Requirement already satisfied: fonttools>=4.22.0 in /usr/local/lib/python3.10/dist-packages (from matplotlib->dedalus==3.0.3) (4.55.3)\n",
            "Requirement already satisfied: kiwisolver>=1.0.1 in /usr/local/lib/python3.10/dist-packages (from matplotlib->dedalus==3.0.3) (1.4.7)\n",
            "Requirement already satisfied: packaging>=20.0 in /usr/local/lib/python3.10/dist-packages (from matplotlib->dedalus==3.0.3) (24.2)\n",
            "Requirement already satisfied: pillow>=6.2.0 in /usr/local/lib/python3.10/dist-packages (from matplotlib->dedalus==3.0.3) (11.0.0)\n",
            "Requirement already satisfied: pyparsing>=2.3.1 in /usr/local/lib/python3.10/dist-packages (from matplotlib->dedalus==3.0.3) (3.2.0)\n",
            "Requirement already satisfied: python-dateutil>=2.7 in /usr/local/lib/python3.10/dist-packages (from matplotlib->dedalus==3.0.3) (2.8.2)\n",
            "Requirement already satisfied: exceptiongroup>=1.0.0rc8 in /usr/local/lib/python3.10/dist-packages (from pytest->dedalus==3.0.3) (1.2.2)\n",
            "Requirement already satisfied: iniconfig in /usr/local/lib/python3.10/dist-packages (from pytest->dedalus==3.0.3) (2.0.0)\n",
            "Requirement already satisfied: pluggy<2,>=1.5 in /usr/local/lib/python3.10/dist-packages (from pytest->dedalus==3.0.3) (1.5.0)\n",
            "Requirement already satisfied: tomli>=1 in /usr/local/lib/python3.10/dist-packages (from pytest->dedalus==3.0.3) (2.2.1)\n",
            "Requirement already satisfied: py-cpuinfo in /usr/local/lib/python3.10/dist-packages (from pytest-benchmark->dedalus==3.0.3) (9.0.0)\n",
            "Collecting coverage>=7.5 (from coverage[toml]>=7.5->pytest-cov->dedalus==3.0.3)\n",
            "  Downloading coverage-7.6.9-cp310-cp310-manylinux_2_5_x86_64.manylinux1_x86_64.manylinux_2_17_x86_64.manylinux2014_x86_64.whl.metadata (8.2 kB)\n",
            "Collecting tblib (from pytest-parallel->dedalus==3.0.3)\n",
            "  Downloading tblib-3.0.0-py3-none-any.whl.metadata (25 kB)\n",
            "Requirement already satisfied: pandas>=2.1 in /usr/local/lib/python3.10/dist-packages (from xarray->dedalus==3.0.3) (2.2.2)\n",
            "Requirement already satisfied: pytz>=2020.1 in /usr/local/lib/python3.10/dist-packages (from pandas>=2.1->xarray->dedalus==3.0.3) (2024.2)\n",
            "Requirement already satisfied: tzdata>=2022.7 in /usr/local/lib/python3.10/dist-packages (from pandas>=2.1->xarray->dedalus==3.0.3) (2024.2)\n",
            "Requirement already satisfied: six>=1.5 in /usr/local/lib/python3.10/dist-packages (from python-dateutil>=2.7->matplotlib->dedalus==3.0.3) (1.17.0)\n",
            "Downloading py-1.11.0-py2.py3-none-any.whl (98 kB)\n",
            "\u001b[2K   \u001b[90m━━━━━━━━━━━━━━━━━━━━━━━━━━━━━━━━━━━━━━━━\u001b[0m \u001b[32m98.7/98.7 kB\u001b[0m \u001b[31m7.3 MB/s\u001b[0m eta \u001b[36m0:00:00\u001b[0m\n",
            "\u001b[?25hDownloading pytest_benchmark-5.1.0-py3-none-any.whl (44 kB)\n",
            "\u001b[2K   \u001b[90m━━━━━━━━━━━━━━━━━━━━━━━━━━━━━━━━━━━━━━━━\u001b[0m \u001b[32m44.3/44.3 kB\u001b[0m \u001b[31m130.1 MB/s\u001b[0m eta \u001b[36m0:00:00\u001b[0m\n",
            "\u001b[?25hDownloading pytest_cov-6.0.0-py3-none-any.whl (22 kB)\n",
            "Downloading pytest_parallel-0.1.1-py3-none-any.whl (7.0 kB)\n",
            "Downloading coverage-7.6.9-cp310-cp310-manylinux_2_5_x86_64.manylinux1_x86_64.manylinux_2_17_x86_64.manylinux2014_x86_64.whl (234 kB)\n",
            "\u001b[2K   \u001b[90m━━━━━━━━━━━━━━━━━━━━━━━━━━━━━━━━━━━━━━━━\u001b[0m \u001b[32m235.0/235.0 kB\u001b[0m \u001b[31m26.3 MB/s\u001b[0m eta \u001b[36m0:00:00\u001b[0m\n",
            "\u001b[?25hDownloading tblib-3.0.0-py3-none-any.whl (12 kB)\n",
            "Building wheels for collected packages: dedalus, docopt\n",
            "  Building wheel for dedalus (pyproject.toml) ... \u001b[?25l\u001b[?25hdone\n",
            "  Created wheel for dedalus: filename=dedalus-3.0.3-cp310-cp310-linux_x86_64.whl size=3261797 sha256=752c8b24a59f8575c074704057c46284a669ccf9682d0a6a033ff7a498918247\n",
            "  Stored in directory: /tmp/pip-ephem-wheel-cache-ny5kerjv/wheels/2c/16/80/8c5f40fc4de8dc37ba4cdd4e05d7639677a5f0659c3bbd79a7\n",
            "  Building wheel for docopt (setup.py) ... \u001b[?25l\u001b[?25hdone\n",
            "  Created wheel for docopt: filename=docopt-0.6.2-py2.py3-none-any.whl size=13706 sha256=c986858f1e0f3b867694720e7da936aa6662557d14ee3276ed5523919088345c\n",
            "  Stored in directory: /tmp/pip-ephem-wheel-cache-ny5kerjv/wheels/fc/ab/d4/5da2067ac95b36618c629a5f93f809425700506f72c9732fac\n",
            "Successfully built dedalus docopt\n",
            "Installing collected packages: docopt, tblib, py, coverage, pytest-parallel, pytest-benchmark, pytest-cov, dedalus\n",
            "Successfully installed coverage-7.6.9 dedalus-3.0.3 docopt-0.6.2 py-1.11.0 pytest-benchmark-5.1.0 pytest-cov-6.0.0 pytest-parallel-0.1.1 tblib-3.0.0\n",
            "\u001b[2K   \u001b[90m━━━━━━━━━━━━━━━━━━━━━━━━━━━━━━━━━━━━━━━━\u001b[0m \u001b[32m516.3/516.3 kB\u001b[0m \u001b[31m9.3 MB/s\u001b[0m eta \u001b[36m0:00:00\u001b[0m\n",
            "\u001b[2K   \u001b[90m━━━━━━━━━━━━━━━━━━━━━━━━━━━━━━━━━━━━━━━━\u001b[0m \u001b[32m1.6/1.6 MB\u001b[0m \u001b[31m39.2 MB/s\u001b[0m eta \u001b[36m0:00:00\u001b[0m\n",
            "\u001b[?25h\n",
            "Dedalus successfully installed :)\n"
          ]
        }
      ]
    },
    {
      "cell_type": "markdown",
      "metadata": {
        "id": "wgngFoPCYQ4N"
      },
      "source": [
        "## 1. Two-layer quasi-geostrophic equations in a periodic box\n",
        "\n",
        "In this section we will solve a non-dimensional version of the two-layer QG equations in Cartesian coordinates. Let $+x$ denote the eastwards direction and $+y$ denote the northwards direction. We start with a flow in geostrophic balance where the velocity is constant in each layer. Let $U \\hat{\\mathbf{x}}$ denote the velocity in the top layer and $-U \\hat{\\mathbf{x}}$ denote the velocity in the bottom layer. Geostrophic balance then implies that the interface has a constant, non-zero slope. We will invoke the so-called \"beta-plane\" approximation and make the Coriolis parameter a linear function of $y$.\n",
        "\n",
        "In this section we solve for the departures to the background state described above. We let $q_1$ and $q_2$ denote the perturbation QG potential vorticity and $\\psi_1$ and $\\psi_2$ denote the perturbation streamfunction. Although the background state is not periodic, we apply periodic boundary conditions in $x$ and $y$ to the perturbation quantities. This has the effect of maintaining the north/south potential vorticity gradient associated with the background state.\n",
        "\n",
        "### 1.1 Governing equations\n",
        "\n",
        "The script below solves the following equations:\n",
        "\n",
        "$$ \\partial_t(q_1) + U \\partial_x(q_1) + \\frac{2U}{R_{d1}^2}\\partial_x(\\psi_1)-\\nu \\nabla^2 q_1 = - J(\\psi_1, q_1), $$\n",
        "\n",
        "$$ \\partial_t(q_2) - U \\partial_x(q_2) - \\frac{2U}{R_{d2}^2}\\partial_x(\\psi_2)-\\nu \\nabla^2 q_2 = - J(\\psi_2, q_2), $$\n",
        "\n",
        "where $R_{d1,2}=\\sqrt{g'H_{1,2}}/f_0$ is the internal deformation radius in each layer, $g'=(\\rho_2-\\rho_1)/\\rho_0$ is the reduced gravity, $\\rho_0$ is a reference density, $J(a,b)=\\partial_x(a)\\partial_y(b) - \\partial_y(a)\\partial_x(b)$ is the Jacobian operator and $\\nu$ is a viscosity which is added to keep the model stable.\n",
        "\n",
        "In addition to the equations above, two other equations relate the perturbation potential vorticity and streamfunctions:\n",
        "\n",
        "$$q_1=\\nabla^2\\psi_1 - \\frac{\\psi_1-\\psi_2}{R_{d1}^2}, $$\n",
        "$$q_2=\\nabla^2\\psi_2 + \\frac{\\psi_1-\\psi_2}{R_{d2}^2}. $$\n",
        "\n",
        "### 1.2 Tau method\n",
        "\n",
        "The equations above are invariant to a constant added to $\\psi_1-\\psi_2$. Therefore, there are infinitely many solutions to the above equations and the coefficient matrix associated with the discretized equations will be singular. To avoid this, we can add an extra equation to the system to set this constant offset. Here, we do this by including the following equation:\n",
        "\n",
        "$$ \\int\\int \\psi_1 dxdy = 0 $$\n",
        "\n",
        "which in effect ensures that the spatial mean of $\\psi_1$ is zero. The problem now is that we have five equations for four unknowns. One fix is to include another unknown in our system. We will include a constant called $\\tau_{\\psi1}$ and we will add it to the equation relating the upper layer QG potential voricity and streamfunction which then becomes:\n",
        "\n",
        "$$q_1=\\nabla^2\\psi_1 - \\frac{\\psi_1-\\psi_2}{R_{d1}^2} + \\tau_{\\psi1}. $$\n",
        "\n",
        "Since adding a constant to the potential vorticity and streamfunction doesn't have any impact on the dynamics of the system, adding $\\tau_{\\psi1}$ here won't cause any problems and we now have a fully constained set of equations.\n"
      ]
    },
    {
      "cell_type": "markdown",
      "metadata": {
        "id": "EAW-LkHBYQ4O"
      },
      "source": [
        "### 1.3 Dedalus script\n",
        "\n",
        "The script below solves the 2-layer QG equations given above with non-dimensional parameters. Note that the velocity gets faster as the simulation progresses. If you find that the code blows up (returns NaNs and a white screen), try reducing the timestep."
      ]
    },
    {
      "cell_type": "code",
      "execution_count": null,
      "metadata": {
        "colab": {
          "base_uri": "https://localhost:8080/"
        },
        "id": "AMOVDWDsYQ4O",
        "outputId": "d382dc68-6c84-4ebc-f2ef-f508dbd09b6a"
      },
      "outputs": [
        {
          "output_type": "stream",
          "name": "stderr",
          "text": [
            "INFO:subsystems:Building subproblem matrices 1/32 (~3%) Elapsed: 0s, Remaining: 1s, Rate: 2.2e+01/s\n"
          ]
        },
        {
          "output_type": "stream",
          "name": "stdout",
          "text": [
            "2024-12-19 19:37:21,436 subsystems 0/1 INFO :: Building subproblem matrices 1/32 (~3%) Elapsed: 0s, Remaining: 1s, Rate: 2.2e+01/s\n"
          ]
        },
        {
          "output_type": "stream",
          "name": "stderr",
          "text": [
            "INFO:subsystems:Building subproblem matrices 4/32 (~12%) Elapsed: 0s, Remaining: 1s, Rate: 2.8e+01/s\n"
          ]
        },
        {
          "output_type": "stream",
          "name": "stdout",
          "text": [
            "2024-12-19 19:37:21,536 subsystems 0/1 INFO :: Building subproblem matrices 4/32 (~12%) Elapsed: 0s, Remaining: 1s, Rate: 2.8e+01/s\n"
          ]
        },
        {
          "output_type": "stream",
          "name": "stderr",
          "text": [
            "INFO:subsystems:Building subproblem matrices 8/32 (~25%) Elapsed: 0s, Remaining: 1s, Rate: 3.1e+01/s\n"
          ]
        },
        {
          "output_type": "stream",
          "name": "stdout",
          "text": [
            "2024-12-19 19:37:21,654 subsystems 0/1 INFO :: Building subproblem matrices 8/32 (~25%) Elapsed: 0s, Remaining: 1s, Rate: 3.1e+01/s\n"
          ]
        },
        {
          "output_type": "stream",
          "name": "stderr",
          "text": [
            "INFO:subsystems:Building subproblem matrices 12/32 (~38%) Elapsed: 0s, Remaining: 1s, Rate: 2.8e+01/s\n"
          ]
        },
        {
          "output_type": "stream",
          "name": "stdout",
          "text": [
            "2024-12-19 19:37:21,821 subsystems 0/1 INFO :: Building subproblem matrices 12/32 (~38%) Elapsed: 0s, Remaining: 1s, Rate: 2.8e+01/s\n"
          ]
        },
        {
          "output_type": "stream",
          "name": "stderr",
          "text": [
            "INFO:subsystems:Building subproblem matrices 16/32 (~50%) Elapsed: 1s, Remaining: 1s, Rate: 2.5e+01/s\n"
          ]
        },
        {
          "output_type": "stream",
          "name": "stdout",
          "text": [
            "2024-12-19 19:37:22,043 subsystems 0/1 INFO :: Building subproblem matrices 16/32 (~50%) Elapsed: 1s, Remaining: 1s, Rate: 2.5e+01/s\n"
          ]
        },
        {
          "output_type": "stream",
          "name": "stderr",
          "text": [
            "INFO:subsystems:Building subproblem matrices 20/32 (~62%) Elapsed: 1s, Remaining: 1s, Rate: 2.3e+01/s\n"
          ]
        },
        {
          "output_type": "stream",
          "name": "stdout",
          "text": [
            "2024-12-19 19:37:22,253 subsystems 0/1 INFO :: Building subproblem matrices 20/32 (~62%) Elapsed: 1s, Remaining: 1s, Rate: 2.3e+01/s\n"
          ]
        },
        {
          "output_type": "stream",
          "name": "stderr",
          "text": [
            "INFO:subsystems:Building subproblem matrices 24/32 (~75%) Elapsed: 1s, Remaining: 0s, Rate: 2.4e+01/s\n"
          ]
        },
        {
          "output_type": "stream",
          "name": "stdout",
          "text": [
            "2024-12-19 19:37:22,404 subsystems 0/1 INFO :: Building subproblem matrices 24/32 (~75%) Elapsed: 1s, Remaining: 0s, Rate: 2.4e+01/s\n"
          ]
        },
        {
          "output_type": "stream",
          "name": "stderr",
          "text": [
            "INFO:subsystems:Building subproblem matrices 28/32 (~88%) Elapsed: 1s, Remaining: 0s, Rate: 2.3e+01/s\n"
          ]
        },
        {
          "output_type": "stream",
          "name": "stdout",
          "text": [
            "2024-12-19 19:37:22,625 subsystems 0/1 INFO :: Building subproblem matrices 28/32 (~88%) Elapsed: 1s, Remaining: 0s, Rate: 2.3e+01/s\n"
          ]
        },
        {
          "output_type": "stream",
          "name": "stderr",
          "text": [
            "INFO:subsystems:Building subproblem matrices 32/32 (~100%) Elapsed: 1s, Remaining: 0s, Rate: 2.2e+01/s\n"
          ]
        },
        {
          "output_type": "stream",
          "name": "stdout",
          "text": [
            "2024-12-19 19:37:22,821 subsystems 0/1 INFO :: Building subproblem matrices 32/32 (~100%) Elapsed: 1s, Remaining: 0s, Rate: 2.2e+01/s\n"
          ]
        },
        {
          "output_type": "stream",
          "name": "stderr",
          "text": [
            "INFO:__main__:Starting main loop\n"
          ]
        },
        {
          "output_type": "stream",
          "name": "stdout",
          "text": [
            "2024-12-19 19:37:22,923 __main__ 0/1 INFO :: Starting main loop\n"
          ]
        },
        {
          "output_type": "stream",
          "name": "stderr",
          "text": [
            "INFO:__main__:Iteration=1, Time=7.812500e-03, dt=7.812500e-03\n"
          ]
        },
        {
          "output_type": "stream",
          "name": "stdout",
          "text": [
            "2024-12-19 19:37:23,624 __main__ 0/1 INFO :: Iteration=1, Time=7.812500e-03, dt=7.812500e-03\n"
          ]
        },
        {
          "output_type": "stream",
          "name": "stderr",
          "text": [
            "INFO:__main__:Iteration=11, Time=8.593750e-02, dt=7.812500e-03\n"
          ]
        },
        {
          "output_type": "stream",
          "name": "stdout",
          "text": [
            "2024-12-19 19:37:24,181 __main__ 0/1 INFO :: Iteration=11, Time=8.593750e-02, dt=7.812500e-03\n"
          ]
        },
        {
          "output_type": "stream",
          "name": "stderr",
          "text": [
            "INFO:__main__:Iteration=21, Time=1.640625e-01, dt=7.812500e-03\n"
          ]
        },
        {
          "output_type": "stream",
          "name": "stdout",
          "text": [
            "2024-12-19 19:37:24,784 __main__ 0/1 INFO :: Iteration=21, Time=1.640625e-01, dt=7.812500e-03\n"
          ]
        },
        {
          "output_type": "stream",
          "name": "stderr",
          "text": [
            "INFO:__main__:Iteration=31, Time=2.421875e-01, dt=7.812500e-03\n"
          ]
        },
        {
          "output_type": "stream",
          "name": "stdout",
          "text": [
            "2024-12-19 19:37:25,301 __main__ 0/1 INFO :: Iteration=31, Time=2.421875e-01, dt=7.812500e-03\n"
          ]
        },
        {
          "output_type": "stream",
          "name": "stderr",
          "text": [
            "INFO:__main__:Iteration=41, Time=3.203125e-01, dt=7.812500e-03\n"
          ]
        },
        {
          "output_type": "stream",
          "name": "stdout",
          "text": [
            "2024-12-19 19:37:25,876 __main__ 0/1 INFO :: Iteration=41, Time=3.203125e-01, dt=7.812500e-03\n"
          ]
        },
        {
          "output_type": "stream",
          "name": "stderr",
          "text": [
            "INFO:__main__:Iteration=51, Time=3.984375e-01, dt=7.812500e-03\n"
          ]
        },
        {
          "output_type": "stream",
          "name": "stdout",
          "text": [
            "2024-12-19 19:37:26,614 __main__ 0/1 INFO :: Iteration=51, Time=3.984375e-01, dt=7.812500e-03\n"
          ]
        },
        {
          "output_type": "stream",
          "name": "stderr",
          "text": [
            "INFO:__main__:Iteration=61, Time=4.765625e-01, dt=7.812500e-03\n"
          ]
        },
        {
          "output_type": "stream",
          "name": "stdout",
          "text": [
            "2024-12-19 19:37:27,268 __main__ 0/1 INFO :: Iteration=61, Time=4.765625e-01, dt=7.812500e-03\n"
          ]
        },
        {
          "output_type": "stream",
          "name": "stderr",
          "text": [
            "INFO:__main__:Iteration=71, Time=5.546875e-01, dt=7.812500e-03\n"
          ]
        },
        {
          "output_type": "stream",
          "name": "stdout",
          "text": [
            "2024-12-19 19:37:27,704 __main__ 0/1 INFO :: Iteration=71, Time=5.546875e-01, dt=7.812500e-03\n"
          ]
        },
        {
          "output_type": "stream",
          "name": "stderr",
          "text": [
            "INFO:__main__:Iteration=81, Time=6.328125e-01, dt=7.812500e-03\n"
          ]
        },
        {
          "output_type": "stream",
          "name": "stdout",
          "text": [
            "2024-12-19 19:37:28,219 __main__ 0/1 INFO :: Iteration=81, Time=6.328125e-01, dt=7.812500e-03\n"
          ]
        },
        {
          "output_type": "stream",
          "name": "stderr",
          "text": [
            "INFO:__main__:Iteration=91, Time=7.109375e-01, dt=7.812500e-03\n"
          ]
        },
        {
          "output_type": "stream",
          "name": "stdout",
          "text": [
            "2024-12-19 19:37:28,844 __main__ 0/1 INFO :: Iteration=91, Time=7.109375e-01, dt=7.812500e-03\n"
          ]
        },
        {
          "output_type": "stream",
          "name": "stderr",
          "text": [
            "INFO:__main__:Iteration=101, Time=7.890625e-01, dt=7.812500e-03\n"
          ]
        },
        {
          "output_type": "stream",
          "name": "stdout",
          "text": [
            "2024-12-19 19:37:29,481 __main__ 0/1 INFO :: Iteration=101, Time=7.890625e-01, dt=7.812500e-03\n"
          ]
        },
        {
          "output_type": "stream",
          "name": "stderr",
          "text": [
            "INFO:__main__:Iteration=111, Time=8.671875e-01, dt=7.812500e-03\n"
          ]
        },
        {
          "output_type": "stream",
          "name": "stdout",
          "text": [
            "2024-12-19 19:37:30,021 __main__ 0/1 INFO :: Iteration=111, Time=8.671875e-01, dt=7.812500e-03\n"
          ]
        },
        {
          "output_type": "stream",
          "name": "stderr",
          "text": [
            "INFO:__main__:Iteration=121, Time=9.453125e-01, dt=7.812500e-03\n"
          ]
        },
        {
          "output_type": "stream",
          "name": "stdout",
          "text": [
            "2024-12-19 19:37:31,038 __main__ 0/1 INFO :: Iteration=121, Time=9.453125e-01, dt=7.812500e-03\n"
          ]
        },
        {
          "output_type": "stream",
          "name": "stderr",
          "text": [
            "INFO:__main__:Iteration=131, Time=1.023438e+00, dt=7.812500e-03\n"
          ]
        },
        {
          "output_type": "stream",
          "name": "stdout",
          "text": [
            "2024-12-19 19:37:31,972 __main__ 0/1 INFO :: Iteration=131, Time=1.023438e+00, dt=7.812500e-03\n"
          ]
        },
        {
          "output_type": "stream",
          "name": "stderr",
          "text": [
            "INFO:__main__:Iteration=141, Time=1.101562e+00, dt=7.812500e-03\n"
          ]
        },
        {
          "output_type": "stream",
          "name": "stdout",
          "text": [
            "2024-12-19 19:37:33,386 __main__ 0/1 INFO :: Iteration=141, Time=1.101562e+00, dt=7.812500e-03\n"
          ]
        },
        {
          "output_type": "stream",
          "name": "stderr",
          "text": [
            "INFO:__main__:Iteration=151, Time=1.179688e+00, dt=7.812500e-03\n"
          ]
        },
        {
          "output_type": "stream",
          "name": "stdout",
          "text": [
            "2024-12-19 19:37:35,043 __main__ 0/1 INFO :: Iteration=151, Time=1.179688e+00, dt=7.812500e-03\n"
          ]
        },
        {
          "output_type": "stream",
          "name": "stderr",
          "text": [
            "INFO:__main__:Iteration=161, Time=1.257812e+00, dt=7.812500e-03\n"
          ]
        },
        {
          "output_type": "stream",
          "name": "stdout",
          "text": [
            "2024-12-19 19:37:35,942 __main__ 0/1 INFO :: Iteration=161, Time=1.257812e+00, dt=7.812500e-03\n"
          ]
        },
        {
          "output_type": "stream",
          "name": "stderr",
          "text": [
            "INFO:__main__:Iteration=171, Time=1.335938e+00, dt=7.812500e-03\n"
          ]
        },
        {
          "output_type": "stream",
          "name": "stdout",
          "text": [
            "2024-12-19 19:37:36,756 __main__ 0/1 INFO :: Iteration=171, Time=1.335938e+00, dt=7.812500e-03\n"
          ]
        },
        {
          "output_type": "stream",
          "name": "stderr",
          "text": [
            "INFO:__main__:Iteration=181, Time=1.414062e+00, dt=7.812500e-03\n"
          ]
        },
        {
          "output_type": "stream",
          "name": "stdout",
          "text": [
            "2024-12-19 19:37:37,656 __main__ 0/1 INFO :: Iteration=181, Time=1.414062e+00, dt=7.812500e-03\n"
          ]
        },
        {
          "output_type": "stream",
          "name": "stderr",
          "text": [
            "INFO:__main__:Iteration=191, Time=1.492188e+00, dt=7.812500e-03\n"
          ]
        },
        {
          "output_type": "stream",
          "name": "stdout",
          "text": [
            "2024-12-19 19:37:38,308 __main__ 0/1 INFO :: Iteration=191, Time=1.492188e+00, dt=7.812500e-03\n"
          ]
        },
        {
          "output_type": "stream",
          "name": "stderr",
          "text": [
            "INFO:__main__:Iteration=201, Time=1.570312e+00, dt=7.812500e-03\n"
          ]
        },
        {
          "output_type": "stream",
          "name": "stdout",
          "text": [
            "2024-12-19 19:37:38,545 __main__ 0/1 INFO :: Iteration=201, Time=1.570312e+00, dt=7.812500e-03\n"
          ]
        },
        {
          "output_type": "stream",
          "name": "stderr",
          "text": [
            "INFO:__main__:Iteration=211, Time=1.648438e+00, dt=7.812500e-03\n"
          ]
        },
        {
          "output_type": "stream",
          "name": "stdout",
          "text": [
            "2024-12-19 19:37:38,797 __main__ 0/1 INFO :: Iteration=211, Time=1.648438e+00, dt=7.812500e-03\n"
          ]
        },
        {
          "output_type": "stream",
          "name": "stderr",
          "text": [
            "INFO:__main__:Iteration=221, Time=1.726562e+00, dt=7.812500e-03\n"
          ]
        },
        {
          "output_type": "stream",
          "name": "stdout",
          "text": [
            "2024-12-19 19:37:39,045 __main__ 0/1 INFO :: Iteration=221, Time=1.726562e+00, dt=7.812500e-03\n"
          ]
        },
        {
          "output_type": "stream",
          "name": "stderr",
          "text": [
            "INFO:__main__:Iteration=231, Time=1.804688e+00, dt=7.812500e-03\n"
          ]
        },
        {
          "output_type": "stream",
          "name": "stdout",
          "text": [
            "2024-12-19 19:37:39,305 __main__ 0/1 INFO :: Iteration=231, Time=1.804688e+00, dt=7.812500e-03\n"
          ]
        },
        {
          "output_type": "stream",
          "name": "stderr",
          "text": [
            "INFO:__main__:Iteration=241, Time=1.882812e+00, dt=7.812500e-03\n"
          ]
        },
        {
          "output_type": "stream",
          "name": "stdout",
          "text": [
            "2024-12-19 19:37:39,549 __main__ 0/1 INFO :: Iteration=241, Time=1.882812e+00, dt=7.812500e-03\n"
          ]
        },
        {
          "output_type": "stream",
          "name": "stderr",
          "text": [
            "INFO:__main__:Iteration=251, Time=1.960938e+00, dt=7.812500e-03\n"
          ]
        },
        {
          "output_type": "stream",
          "name": "stdout",
          "text": [
            "2024-12-19 19:37:39,800 __main__ 0/1 INFO :: Iteration=251, Time=1.960938e+00, dt=7.812500e-03\n"
          ]
        },
        {
          "output_type": "stream",
          "name": "stderr",
          "text": [
            "INFO:__main__:Iteration=261, Time=2.039062e+00, dt=7.812500e-03\n"
          ]
        },
        {
          "output_type": "stream",
          "name": "stdout",
          "text": [
            "2024-12-19 19:37:40,035 __main__ 0/1 INFO :: Iteration=261, Time=2.039062e+00, dt=7.812500e-03\n"
          ]
        },
        {
          "output_type": "stream",
          "name": "stderr",
          "text": [
            "INFO:__main__:Iteration=271, Time=2.117188e+00, dt=7.812500e-03\n"
          ]
        },
        {
          "output_type": "stream",
          "name": "stdout",
          "text": [
            "2024-12-19 19:37:40,284 __main__ 0/1 INFO :: Iteration=271, Time=2.117188e+00, dt=7.812500e-03\n"
          ]
        },
        {
          "output_type": "stream",
          "name": "stderr",
          "text": [
            "INFO:__main__:Iteration=281, Time=2.195312e+00, dt=7.812500e-03\n"
          ]
        },
        {
          "output_type": "stream",
          "name": "stdout",
          "text": [
            "2024-12-19 19:37:40,526 __main__ 0/1 INFO :: Iteration=281, Time=2.195312e+00, dt=7.812500e-03\n"
          ]
        },
        {
          "output_type": "stream",
          "name": "stderr",
          "text": [
            "INFO:__main__:Iteration=291, Time=2.273438e+00, dt=7.812500e-03\n"
          ]
        },
        {
          "output_type": "stream",
          "name": "stdout",
          "text": [
            "2024-12-19 19:37:40,779 __main__ 0/1 INFO :: Iteration=291, Time=2.273438e+00, dt=7.812500e-03\n"
          ]
        },
        {
          "output_type": "stream",
          "name": "stderr",
          "text": [
            "INFO:__main__:Iteration=301, Time=2.351562e+00, dt=7.812500e-03\n"
          ]
        },
        {
          "output_type": "stream",
          "name": "stdout",
          "text": [
            "2024-12-19 19:37:41,019 __main__ 0/1 INFO :: Iteration=301, Time=2.351562e+00, dt=7.812500e-03\n"
          ]
        },
        {
          "output_type": "stream",
          "name": "stderr",
          "text": [
            "INFO:__main__:Iteration=311, Time=2.429688e+00, dt=7.812500e-03\n"
          ]
        },
        {
          "output_type": "stream",
          "name": "stdout",
          "text": [
            "2024-12-19 19:37:41,282 __main__ 0/1 INFO :: Iteration=311, Time=2.429688e+00, dt=7.812500e-03\n"
          ]
        },
        {
          "output_type": "stream",
          "name": "stderr",
          "text": [
            "INFO:__main__:Iteration=321, Time=2.507812e+00, dt=7.812500e-03\n"
          ]
        },
        {
          "output_type": "stream",
          "name": "stdout",
          "text": [
            "2024-12-19 19:37:41,520 __main__ 0/1 INFO :: Iteration=321, Time=2.507812e+00, dt=7.812500e-03\n"
          ]
        },
        {
          "output_type": "stream",
          "name": "stderr",
          "text": [
            "INFO:__main__:Iteration=331, Time=2.585938e+00, dt=7.812500e-03\n"
          ]
        },
        {
          "output_type": "stream",
          "name": "stdout",
          "text": [
            "2024-12-19 19:37:41,773 __main__ 0/1 INFO :: Iteration=331, Time=2.585938e+00, dt=7.812500e-03\n"
          ]
        },
        {
          "output_type": "stream",
          "name": "stderr",
          "text": [
            "INFO:__main__:Iteration=341, Time=2.664062e+00, dt=7.812500e-03\n"
          ]
        },
        {
          "output_type": "stream",
          "name": "stdout",
          "text": [
            "2024-12-19 19:37:42,010 __main__ 0/1 INFO :: Iteration=341, Time=2.664062e+00, dt=7.812500e-03\n"
          ]
        },
        {
          "output_type": "stream",
          "name": "stderr",
          "text": [
            "INFO:__main__:Iteration=351, Time=2.742188e+00, dt=7.812500e-03\n"
          ]
        },
        {
          "output_type": "stream",
          "name": "stdout",
          "text": [
            "2024-12-19 19:37:42,256 __main__ 0/1 INFO :: Iteration=351, Time=2.742188e+00, dt=7.812500e-03\n"
          ]
        },
        {
          "output_type": "stream",
          "name": "stderr",
          "text": [
            "INFO:__main__:Iteration=361, Time=2.820312e+00, dt=7.812500e-03\n"
          ]
        },
        {
          "output_type": "stream",
          "name": "stdout",
          "text": [
            "2024-12-19 19:37:42,514 __main__ 0/1 INFO :: Iteration=361, Time=2.820312e+00, dt=7.812500e-03\n"
          ]
        },
        {
          "output_type": "stream",
          "name": "stderr",
          "text": [
            "INFO:__main__:Iteration=371, Time=2.898438e+00, dt=7.812500e-03\n"
          ]
        },
        {
          "output_type": "stream",
          "name": "stdout",
          "text": [
            "2024-12-19 19:37:42,758 __main__ 0/1 INFO :: Iteration=371, Time=2.898438e+00, dt=7.812500e-03\n"
          ]
        },
        {
          "output_type": "stream",
          "name": "stderr",
          "text": [
            "INFO:__main__:Iteration=381, Time=2.976562e+00, dt=7.812500e-03\n"
          ]
        },
        {
          "output_type": "stream",
          "name": "stdout",
          "text": [
            "2024-12-19 19:37:43,015 __main__ 0/1 INFO :: Iteration=381, Time=2.976562e+00, dt=7.812500e-03\n"
          ]
        },
        {
          "output_type": "stream",
          "name": "stderr",
          "text": [
            "INFO:__main__:Iteration=391, Time=3.054688e+00, dt=7.812500e-03\n"
          ]
        },
        {
          "output_type": "stream",
          "name": "stdout",
          "text": [
            "2024-12-19 19:37:43,265 __main__ 0/1 INFO :: Iteration=391, Time=3.054688e+00, dt=7.812500e-03\n"
          ]
        },
        {
          "output_type": "stream",
          "name": "stderr",
          "text": [
            "INFO:__main__:Iteration=401, Time=3.132812e+00, dt=7.812500e-03\n"
          ]
        },
        {
          "output_type": "stream",
          "name": "stdout",
          "text": [
            "2024-12-19 19:37:43,513 __main__ 0/1 INFO :: Iteration=401, Time=3.132812e+00, dt=7.812500e-03\n"
          ]
        },
        {
          "output_type": "stream",
          "name": "stderr",
          "text": [
            "INFO:__main__:Iteration=411, Time=3.210938e+00, dt=7.812500e-03\n"
          ]
        },
        {
          "output_type": "stream",
          "name": "stdout",
          "text": [
            "2024-12-19 19:37:43,766 __main__ 0/1 INFO :: Iteration=411, Time=3.210938e+00, dt=7.812500e-03\n"
          ]
        },
        {
          "output_type": "stream",
          "name": "stderr",
          "text": [
            "INFO:__main__:Iteration=421, Time=3.289062e+00, dt=7.812500e-03\n"
          ]
        },
        {
          "output_type": "stream",
          "name": "stdout",
          "text": [
            "2024-12-19 19:37:44,041 __main__ 0/1 INFO :: Iteration=421, Time=3.289062e+00, dt=7.812500e-03\n"
          ]
        },
        {
          "output_type": "stream",
          "name": "stderr",
          "text": [
            "INFO:__main__:Iteration=431, Time=3.367188e+00, dt=7.812500e-03\n"
          ]
        },
        {
          "output_type": "stream",
          "name": "stdout",
          "text": [
            "2024-12-19 19:37:44,292 __main__ 0/1 INFO :: Iteration=431, Time=3.367188e+00, dt=7.812500e-03\n"
          ]
        },
        {
          "output_type": "stream",
          "name": "stderr",
          "text": [
            "INFO:__main__:Iteration=441, Time=3.445312e+00, dt=7.812500e-03\n"
          ]
        },
        {
          "output_type": "stream",
          "name": "stdout",
          "text": [
            "2024-12-19 19:37:44,546 __main__ 0/1 INFO :: Iteration=441, Time=3.445312e+00, dt=7.812500e-03\n"
          ]
        },
        {
          "output_type": "stream",
          "name": "stderr",
          "text": [
            "INFO:__main__:Iteration=451, Time=3.523438e+00, dt=7.812500e-03\n"
          ]
        },
        {
          "output_type": "stream",
          "name": "stdout",
          "text": [
            "2024-12-19 19:37:44,798 __main__ 0/1 INFO :: Iteration=451, Time=3.523438e+00, dt=7.812500e-03\n"
          ]
        },
        {
          "output_type": "stream",
          "name": "stderr",
          "text": [
            "INFO:__main__:Iteration=461, Time=3.601562e+00, dt=7.812500e-03\n"
          ]
        },
        {
          "output_type": "stream",
          "name": "stdout",
          "text": [
            "2024-12-19 19:37:45,069 __main__ 0/1 INFO :: Iteration=461, Time=3.601562e+00, dt=7.812500e-03\n"
          ]
        },
        {
          "output_type": "stream",
          "name": "stderr",
          "text": [
            "INFO:__main__:Iteration=471, Time=3.679688e+00, dt=7.812500e-03\n"
          ]
        },
        {
          "output_type": "stream",
          "name": "stdout",
          "text": [
            "2024-12-19 19:37:45,337 __main__ 0/1 INFO :: Iteration=471, Time=3.679688e+00, dt=7.812500e-03\n"
          ]
        },
        {
          "output_type": "stream",
          "name": "stderr",
          "text": [
            "INFO:__main__:Iteration=481, Time=3.757812e+00, dt=7.812500e-03\n"
          ]
        },
        {
          "output_type": "stream",
          "name": "stdout",
          "text": [
            "2024-12-19 19:37:45,638 __main__ 0/1 INFO :: Iteration=481, Time=3.757812e+00, dt=7.812500e-03\n"
          ]
        },
        {
          "output_type": "stream",
          "name": "stderr",
          "text": [
            "INFO:__main__:Iteration=491, Time=3.835938e+00, dt=7.812500e-03\n"
          ]
        },
        {
          "output_type": "stream",
          "name": "stdout",
          "text": [
            "2024-12-19 19:37:46,052 __main__ 0/1 INFO :: Iteration=491, Time=3.835938e+00, dt=7.812500e-03\n"
          ]
        },
        {
          "output_type": "stream",
          "name": "stderr",
          "text": [
            "INFO:__main__:Iteration=501, Time=3.914062e+00, dt=7.812500e-03\n"
          ]
        },
        {
          "output_type": "stream",
          "name": "stdout",
          "text": [
            "2024-12-19 19:37:46,460 __main__ 0/1 INFO :: Iteration=501, Time=3.914062e+00, dt=7.812500e-03\n"
          ]
        },
        {
          "output_type": "stream",
          "name": "stderr",
          "text": [
            "INFO:__main__:Iteration=511, Time=3.992188e+00, dt=7.812500e-03\n"
          ]
        },
        {
          "output_type": "stream",
          "name": "stdout",
          "text": [
            "2024-12-19 19:37:46,837 __main__ 0/1 INFO :: Iteration=511, Time=3.992188e+00, dt=7.812500e-03\n"
          ]
        },
        {
          "output_type": "stream",
          "name": "stderr",
          "text": [
            "INFO:__main__:Iteration=521, Time=4.070312e+00, dt=7.812500e-03\n"
          ]
        },
        {
          "output_type": "stream",
          "name": "stdout",
          "text": [
            "2024-12-19 19:37:47,236 __main__ 0/1 INFO :: Iteration=521, Time=4.070312e+00, dt=7.812500e-03\n"
          ]
        },
        {
          "output_type": "stream",
          "name": "stderr",
          "text": [
            "INFO:__main__:Iteration=531, Time=4.148438e+00, dt=7.812500e-03\n"
          ]
        },
        {
          "output_type": "stream",
          "name": "stdout",
          "text": [
            "2024-12-19 19:37:47,650 __main__ 0/1 INFO :: Iteration=531, Time=4.148438e+00, dt=7.812500e-03\n"
          ]
        },
        {
          "output_type": "stream",
          "name": "stderr",
          "text": [
            "INFO:__main__:Iteration=541, Time=4.226562e+00, dt=7.812500e-03\n"
          ]
        },
        {
          "output_type": "stream",
          "name": "stdout",
          "text": [
            "2024-12-19 19:37:48,073 __main__ 0/1 INFO :: Iteration=541, Time=4.226562e+00, dt=7.812500e-03\n"
          ]
        },
        {
          "output_type": "stream",
          "name": "stderr",
          "text": [
            "INFO:__main__:Iteration=551, Time=4.304688e+00, dt=7.812500e-03\n"
          ]
        },
        {
          "output_type": "stream",
          "name": "stdout",
          "text": [
            "2024-12-19 19:37:48,502 __main__ 0/1 INFO :: Iteration=551, Time=4.304688e+00, dt=7.812500e-03\n"
          ]
        },
        {
          "output_type": "stream",
          "name": "stderr",
          "text": [
            "INFO:__main__:Iteration=561, Time=4.382812e+00, dt=7.812500e-03\n"
          ]
        },
        {
          "output_type": "stream",
          "name": "stdout",
          "text": [
            "2024-12-19 19:37:48,879 __main__ 0/1 INFO :: Iteration=561, Time=4.382812e+00, dt=7.812500e-03\n"
          ]
        },
        {
          "output_type": "stream",
          "name": "stderr",
          "text": [
            "INFO:__main__:Iteration=571, Time=4.460938e+00, dt=7.812500e-03\n"
          ]
        },
        {
          "output_type": "stream",
          "name": "stdout",
          "text": [
            "2024-12-19 19:37:49,134 __main__ 0/1 INFO :: Iteration=571, Time=4.460938e+00, dt=7.812500e-03\n"
          ]
        },
        {
          "output_type": "stream",
          "name": "stderr",
          "text": [
            "INFO:__main__:Iteration=581, Time=4.539062e+00, dt=7.812500e-03\n"
          ]
        },
        {
          "output_type": "stream",
          "name": "stdout",
          "text": [
            "2024-12-19 19:37:49,382 __main__ 0/1 INFO :: Iteration=581, Time=4.539062e+00, dt=7.812500e-03\n"
          ]
        },
        {
          "output_type": "stream",
          "name": "stderr",
          "text": [
            "INFO:__main__:Iteration=591, Time=4.617188e+00, dt=7.812500e-03\n"
          ]
        },
        {
          "output_type": "stream",
          "name": "stdout",
          "text": [
            "2024-12-19 19:37:49,622 __main__ 0/1 INFO :: Iteration=591, Time=4.617188e+00, dt=7.812500e-03\n"
          ]
        },
        {
          "output_type": "stream",
          "name": "stderr",
          "text": [
            "INFO:__main__:Iteration=601, Time=4.695312e+00, dt=7.812500e-03\n"
          ]
        },
        {
          "output_type": "stream",
          "name": "stdout",
          "text": [
            "2024-12-19 19:37:49,867 __main__ 0/1 INFO :: Iteration=601, Time=4.695312e+00, dt=7.812500e-03\n"
          ]
        },
        {
          "output_type": "stream",
          "name": "stderr",
          "text": [
            "INFO:__main__:Iteration=611, Time=4.773438e+00, dt=7.812500e-03\n"
          ]
        },
        {
          "output_type": "stream",
          "name": "stdout",
          "text": [
            "2024-12-19 19:37:50,127 __main__ 0/1 INFO :: Iteration=611, Time=4.773438e+00, dt=7.812500e-03\n"
          ]
        },
        {
          "output_type": "stream",
          "name": "stderr",
          "text": [
            "INFO:__main__:Iteration=621, Time=4.851562e+00, dt=7.812500e-03\n"
          ]
        },
        {
          "output_type": "stream",
          "name": "stdout",
          "text": [
            "2024-12-19 19:37:50,394 __main__ 0/1 INFO :: Iteration=621, Time=4.851562e+00, dt=7.812500e-03\n"
          ]
        },
        {
          "output_type": "stream",
          "name": "stderr",
          "text": [
            "INFO:__main__:Iteration=631, Time=4.929688e+00, dt=7.812500e-03\n"
          ]
        },
        {
          "output_type": "stream",
          "name": "stdout",
          "text": [
            "2024-12-19 19:37:50,636 __main__ 0/1 INFO :: Iteration=631, Time=4.929688e+00, dt=7.812500e-03\n"
          ]
        },
        {
          "output_type": "stream",
          "name": "stderr",
          "text": [
            "INFO:__main__:Iteration=641, Time=5.007812e+00, dt=7.812500e-03\n"
          ]
        },
        {
          "output_type": "stream",
          "name": "stdout",
          "text": [
            "2024-12-19 19:37:50,888 __main__ 0/1 INFO :: Iteration=641, Time=5.007812e+00, dt=7.812500e-03\n"
          ]
        },
        {
          "output_type": "stream",
          "name": "stderr",
          "text": [
            "INFO:__main__:Iteration=651, Time=5.085938e+00, dt=7.812500e-03\n"
          ]
        },
        {
          "output_type": "stream",
          "name": "stdout",
          "text": [
            "2024-12-19 19:37:51,146 __main__ 0/1 INFO :: Iteration=651, Time=5.085938e+00, dt=7.812500e-03\n"
          ]
        },
        {
          "output_type": "stream",
          "name": "stderr",
          "text": [
            "INFO:__main__:Iteration=661, Time=5.164062e+00, dt=7.812500e-03\n"
          ]
        },
        {
          "output_type": "stream",
          "name": "stdout",
          "text": [
            "2024-12-19 19:37:51,411 __main__ 0/1 INFO :: Iteration=661, Time=5.164062e+00, dt=7.812500e-03\n"
          ]
        },
        {
          "output_type": "stream",
          "name": "stderr",
          "text": [
            "INFO:__main__:Iteration=671, Time=5.242188e+00, dt=7.812500e-03\n"
          ]
        },
        {
          "output_type": "stream",
          "name": "stdout",
          "text": [
            "2024-12-19 19:37:51,661 __main__ 0/1 INFO :: Iteration=671, Time=5.242188e+00, dt=7.812500e-03\n"
          ]
        },
        {
          "output_type": "stream",
          "name": "stderr",
          "text": [
            "INFO:__main__:Iteration=681, Time=5.320312e+00, dt=7.812500e-03\n"
          ]
        },
        {
          "output_type": "stream",
          "name": "stdout",
          "text": [
            "2024-12-19 19:37:51,911 __main__ 0/1 INFO :: Iteration=681, Time=5.320312e+00, dt=7.812500e-03\n"
          ]
        },
        {
          "output_type": "stream",
          "name": "stderr",
          "text": [
            "INFO:__main__:Iteration=691, Time=5.398438e+00, dt=7.812500e-03\n"
          ]
        },
        {
          "output_type": "stream",
          "name": "stdout",
          "text": [
            "2024-12-19 19:37:52,170 __main__ 0/1 INFO :: Iteration=691, Time=5.398438e+00, dt=7.812500e-03\n"
          ]
        },
        {
          "output_type": "stream",
          "name": "stderr",
          "text": [
            "INFO:__main__:Iteration=701, Time=5.476562e+00, dt=7.812500e-03\n"
          ]
        },
        {
          "output_type": "stream",
          "name": "stdout",
          "text": [
            "2024-12-19 19:37:52,417 __main__ 0/1 INFO :: Iteration=701, Time=5.476562e+00, dt=7.812500e-03\n"
          ]
        },
        {
          "output_type": "stream",
          "name": "stderr",
          "text": [
            "INFO:__main__:Iteration=711, Time=5.554688e+00, dt=7.812500e-03\n"
          ]
        },
        {
          "output_type": "stream",
          "name": "stdout",
          "text": [
            "2024-12-19 19:37:52,650 __main__ 0/1 INFO :: Iteration=711, Time=5.554688e+00, dt=7.812500e-03\n"
          ]
        },
        {
          "output_type": "stream",
          "name": "stderr",
          "text": [
            "INFO:__main__:Iteration=721, Time=5.632812e+00, dt=7.812500e-03\n"
          ]
        },
        {
          "output_type": "stream",
          "name": "stdout",
          "text": [
            "2024-12-19 19:37:52,903 __main__ 0/1 INFO :: Iteration=721, Time=5.632812e+00, dt=7.812500e-03\n"
          ]
        },
        {
          "output_type": "stream",
          "name": "stderr",
          "text": [
            "INFO:__main__:Iteration=731, Time=5.710938e+00, dt=7.812500e-03\n"
          ]
        },
        {
          "output_type": "stream",
          "name": "stdout",
          "text": [
            "2024-12-19 19:37:53,162 __main__ 0/1 INFO :: Iteration=731, Time=5.710938e+00, dt=7.812500e-03\n"
          ]
        },
        {
          "output_type": "stream",
          "name": "stderr",
          "text": [
            "INFO:__main__:Iteration=741, Time=5.789062e+00, dt=7.812500e-03\n"
          ]
        },
        {
          "output_type": "stream",
          "name": "stdout",
          "text": [
            "2024-12-19 19:37:53,425 __main__ 0/1 INFO :: Iteration=741, Time=5.789062e+00, dt=7.812500e-03\n"
          ]
        },
        {
          "output_type": "stream",
          "name": "stderr",
          "text": [
            "INFO:__main__:Iteration=751, Time=5.867188e+00, dt=7.812500e-03\n"
          ]
        },
        {
          "output_type": "stream",
          "name": "stdout",
          "text": [
            "2024-12-19 19:37:53,657 __main__ 0/1 INFO :: Iteration=751, Time=5.867188e+00, dt=7.812500e-03\n"
          ]
        },
        {
          "output_type": "stream",
          "name": "stderr",
          "text": [
            "INFO:__main__:Iteration=761, Time=5.945312e+00, dt=7.812500e-03\n"
          ]
        },
        {
          "output_type": "stream",
          "name": "stdout",
          "text": [
            "2024-12-19 19:37:53,896 __main__ 0/1 INFO :: Iteration=761, Time=5.945312e+00, dt=7.812500e-03\n"
          ]
        },
        {
          "output_type": "stream",
          "name": "stderr",
          "text": [
            "INFO:__main__:Iteration=771, Time=6.023438e+00, dt=7.812500e-03\n"
          ]
        },
        {
          "output_type": "stream",
          "name": "stdout",
          "text": [
            "2024-12-19 19:37:54,150 __main__ 0/1 INFO :: Iteration=771, Time=6.023438e+00, dt=7.812500e-03\n"
          ]
        },
        {
          "output_type": "stream",
          "name": "stderr",
          "text": [
            "INFO:__main__:Iteration=781, Time=6.101562e+00, dt=7.812500e-03\n"
          ]
        },
        {
          "output_type": "stream",
          "name": "stdout",
          "text": [
            "2024-12-19 19:37:54,425 __main__ 0/1 INFO :: Iteration=781, Time=6.101562e+00, dt=7.812500e-03\n"
          ]
        },
        {
          "output_type": "stream",
          "name": "stderr",
          "text": [
            "INFO:__main__:Iteration=791, Time=6.179688e+00, dt=7.812500e-03\n"
          ]
        },
        {
          "output_type": "stream",
          "name": "stdout",
          "text": [
            "2024-12-19 19:37:54,653 __main__ 0/1 INFO :: Iteration=791, Time=6.179688e+00, dt=7.812500e-03\n"
          ]
        },
        {
          "output_type": "stream",
          "name": "stderr",
          "text": [
            "INFO:__main__:Iteration=801, Time=6.257812e+00, dt=7.812500e-03\n"
          ]
        },
        {
          "output_type": "stream",
          "name": "stdout",
          "text": [
            "2024-12-19 19:37:54,892 __main__ 0/1 INFO :: Iteration=801, Time=6.257812e+00, dt=7.812500e-03\n"
          ]
        },
        {
          "output_type": "stream",
          "name": "stderr",
          "text": [
            "INFO:__main__:Iteration=811, Time=6.335938e+00, dt=7.812500e-03\n"
          ]
        },
        {
          "output_type": "stream",
          "name": "stdout",
          "text": [
            "2024-12-19 19:37:55,136 __main__ 0/1 INFO :: Iteration=811, Time=6.335938e+00, dt=7.812500e-03\n"
          ]
        },
        {
          "output_type": "stream",
          "name": "stderr",
          "text": [
            "INFO:__main__:Iteration=821, Time=6.414062e+00, dt=7.812500e-03\n"
          ]
        },
        {
          "output_type": "stream",
          "name": "stdout",
          "text": [
            "2024-12-19 19:37:55,401 __main__ 0/1 INFO :: Iteration=821, Time=6.414062e+00, dt=7.812500e-03\n"
          ]
        },
        {
          "output_type": "stream",
          "name": "stderr",
          "text": [
            "INFO:__main__:Iteration=831, Time=6.492188e+00, dt=7.812500e-03\n"
          ]
        },
        {
          "output_type": "stream",
          "name": "stdout",
          "text": [
            "2024-12-19 19:37:55,645 __main__ 0/1 INFO :: Iteration=831, Time=6.492188e+00, dt=7.812500e-03\n"
          ]
        },
        {
          "output_type": "stream",
          "name": "stderr",
          "text": [
            "INFO:__main__:Iteration=841, Time=6.570312e+00, dt=7.812500e-03\n"
          ]
        },
        {
          "output_type": "stream",
          "name": "stdout",
          "text": [
            "2024-12-19 19:37:55,891 __main__ 0/1 INFO :: Iteration=841, Time=6.570312e+00, dt=7.812500e-03\n"
          ]
        },
        {
          "output_type": "stream",
          "name": "stderr",
          "text": [
            "INFO:__main__:Iteration=851, Time=6.648438e+00, dt=7.812500e-03\n"
          ]
        },
        {
          "output_type": "stream",
          "name": "stdout",
          "text": [
            "2024-12-19 19:37:56,142 __main__ 0/1 INFO :: Iteration=851, Time=6.648438e+00, dt=7.812500e-03\n"
          ]
        }
      ],
      "source": [
        "# # Code to solve the two-layer shallow water quasi-geostrophic equations\n",
        "\n",
        "# Import the required packages\n",
        "import numpy as np\n",
        "import dedalus.public as dedalus\n",
        "import logging\n",
        "import matplotlib.pyplot as plt\n",
        "\n",
        "logger = logging.getLogger(__name__)\n",
        "\n",
        "# Set the non-dimensional parameters\n",
        "Nx = 64 # Number of gridpoints in x\n",
        "Ny = 64 # Number of gridpoints in y\n",
        "Lx = 100 # Domain size in x\n",
        "Ly = 100 # Domain size in y\n",
        "Rd1 = 3 # Deformation radius in layer 1\n",
        "Rd2 = 3 # Deformation radius in layer 2\n",
        "U = 1 # Background velocity in layer 1\n",
        "\n",
        "#Set the hypervisocisty based on the grid spacing\n",
        "delx = Lx/Nx\n",
        "nu = 0.2\n",
        "\n",
        "# Set the timestep based on the CFL criterion\n",
        "timestep = 0.5*Lx/Nx/U/100 # This is just an estimate based on the background velocity\n",
        "stop_sim_time = 70\n",
        "\n",
        "# Bases\n",
        "coords = dedalus.CartesianCoordinates('x', 'y')\n",
        "dist = dedalus.Distributor(coords, dtype=np.float64)\n",
        "xbasis = dedalus.RealFourier(coords['x'], size=Nx, bounds=(0, Lx), dealias=3/2)\n",
        "ybasis = dedalus.RealFourier(coords['y'], size=Ny, bounds=(0, Ly), dealias=3/2)\n",
        "\n",
        "# Define the coordinates\n",
        "x, y = dist.local_grids(xbasis, ybasis)\n",
        "\n",
        "# Define the fields\n",
        "# Here psi is the streamfunction and q is the QG potential vorticity\n",
        "# \"1\" corresponds to the upper layer and \"2\" corresponds to the lower layer\n",
        "psi1 = dist.Field(name='psi1', bases=(xbasis, ybasis))\n",
        "psi2 = dist.Field(name='psi2', bases=(xbasis, ybasis))\n",
        "q1 = dist.Field(name='q1', bases=(xbasis, ybasis))\n",
        "q2 = dist.Field(name='q2', bases=(xbasis, ybasis))\n",
        "tau_psi1 = dist.Field(name='tau_psi1')\n",
        "\n",
        "# Set the initial conditions\n",
        "q1.fill_random('g', seed=42, distribution='normal', scale=1e-3) # Random noise\n",
        "q2.fill_random('g', seed=42, distribution='normal', scale=1e-3) # Random noise\n",
        "\n",
        "# Define the operators that will be used to write the equations\n",
        "dx = lambda A: dedalus.Differentiate(A, coords['x'])\n",
        "dy = lambda A: dedalus.Differentiate(A, coords['y'])\n",
        "lap = lambda A: dedalus.Laplacian(A)\n",
        "J = lambda A, B: dx(A)*dy(B)-dy(A)*dx(B)\n",
        "integ = lambda A: dedalus.Integrate(A, ('x', 'y'))\n",
        "\n",
        "# Define problem\n",
        "problem = dedalus.IVP([q1, q2, psi1, psi2, tau_psi1], namespace=locals())\n",
        "\n",
        "# First, add the two equations for the evolution of the QG potential vorticity\n",
        "problem.add_equation(\"dt(q1) + U*dx(q1) + (2*U/Rd1**2.0)*dx(psi1) - nu*lap(q1) = - dx(psi1)*dy(q1) + dy(psi1)*dx(q1)\")\n",
        "problem.add_equation(\"dt(q2) - U*dx(q2) - (2*U/Rd2**2.0)*dx(psi2) - nu*lap(q2) = - dx(psi2)*dy(q2) + dy(psi2)*dx(q2)\")\n",
        "\n",
        "problem.add_equation(\"lap(psi1)-(psi1-psi2)/(Rd1**2.0)+tau_psi1=q1\")\n",
        "problem.add_equation(\"lap(psi2)+(psi1-psi2)/(Rd2**2.0)=q2\")\n",
        "\n",
        "problem.add_equation(\"integ(psi1) = 0\")\n",
        "\n",
        "# Now, set the solver\n",
        "solver = problem.build_solver(dedalus.RK443)\n",
        "solver.stop_sim_time = stop_sim_time\n",
        "\n",
        "psi1.change_scales(1)\n",
        "psi2.change_scales(1)\n",
        "q1.change_scales(1)\n",
        "q2.change_scales(1)\n",
        "psi1_save = [np.copy(psi1['g'])];\n",
        "psi2_save = [np.copy(psi2['g'])];\n",
        "q1_save = [np.copy(q1['g'])];\n",
        "q2_save = [np.copy(q2['g'])];\n",
        "t_save = [solver.sim_time]; # Save the initial condition and the initial time\n",
        "# Main loop\n",
        "try:\n",
        "    logger.info('Starting main loop')\n",
        "    while solver.proceed:\n",
        "        solver.step(timestep)\n",
        "        if (solver.iteration-1) % 10 == 0:\n",
        "            logger.info('Iteration=%i, Time=%e, dt=%e' %(solver.iteration, solver.sim_time, timestep))\n",
        "            psi1.change_scales(1)\n",
        "            psi2.change_scales(1)\n",
        "            psi1_save.append(np.copy(psi1['g']))\n",
        "            psi2_save.append(np.copy(psi2['g']))\n",
        "            q1.change_scales(1)\n",
        "            q2.change_scales(1)\n",
        "            q1_save.append(np.copy(q1['g']))\n",
        "            q2_save.append(np.copy(q2['g']))\n",
        "            t_save.append(solver.sim_time)\n",
        "except:\n",
        "    logger.error('Exception raised, triggering end of main loop.')\n",
        "    raise\n",
        "finally:\n",
        "    solver.log_stats()\n",
        "\n",
        "# Convert the variables to numpy arrays for allow array slicing\n",
        "psi1_save = np.array(psi1_save)\n",
        "psi2_save = np.array(psi2_save)\n",
        "q1_save = np.array(q1_save)\n",
        "q2_save = np.array(q2_save)"
      ]
    },
    {
      "cell_type": "markdown",
      "metadata": {
        "id": "TgLBsD02YQ4P"
      },
      "source": [
        "### 1.4 Visualization\n",
        "The script below will make a movie showing the evolution of $\\psi_2-\\psi_1$, which is proportional to the displacement of the interior interface."
      ]
    },
    {
      "cell_type": "code",
      "execution_count": null,
      "metadata": {
        "id": "FI_iFZ0WYQ4Q"
      },
      "outputs": [],
      "source": [
        "# create a figure and axes\n",
        "fig = plt.figure(figsize=(6,6))\n",
        "\n",
        "# Create arrays with the latitude and longitude coordinates for plotting using pcolor\n",
        "from dedalus.extras import plot_tools\n",
        "(X, Y) = plot_tools.quad_mesh(np.squeeze(x), np.squeeze(y))\n",
        "\n",
        "# Define an animation function\n",
        "def drawframe(n):\n",
        "    plt.clf()\n",
        "    streamfunction = plt.pcolor(X, Y, (psi2_save[n,:,:].T-psi1_save[n,:,:].T))\n",
        "    # Specify the axis limits and labels\n",
        "    plt.xlim(0, Lx)\n",
        "    plt.ylim(0, Ly)\n",
        "    plt.colorbar()\n",
        "    plt.xlabel('x')\n",
        "    plt.ylabel('y')\n",
        "    plt.title('psi2-psi1, time = {0:.2f}'.format(t_save[n]))\n",
        "    return (streamfunction,)\n",
        "\n",
        "from matplotlib import animation\n",
        "# blit=True re-draws only the parts that have changed.\n",
        "anim = animation.FuncAnimation(fig, drawframe, frames=len(t_save), interval=40, blit=True)\n",
        "\n",
        "from IPython.display import HTML\n",
        "HTML(anim.to_html5_video())"
      ]
    },
    {
      "cell_type": "markdown",
      "metadata": {
        "id": "TCx84TOUYQ4Q"
      },
      "source": [
        "### 1.5 Student investigation\n",
        "<a id='section1pt5'></a>\n",
        "In lectures, we found growing solutions of the form\n",
        "\n",
        "$$ \\psi_{1,2}=Re\\left[\\hat{\\psi}_{1,2}e^{ikx+\\sigma t}\\right], $$\n",
        "\n",
        "where\n",
        "\n",
        "$$ \\sigma = Uk \\left(\\frac{2/R_d^2-k^2}{2/R_d^2+k^2}\\right)^{1/2}, $$\n",
        "\n",
        "is the exponential growth rate, $R_d=\\sqrt{g'H}/f_0$ is the deformation radius in each layer, and $k$ is the wavenumber in the $x$ direction where $\\lambda=2\\pi/k$ is the wavelength.\n",
        "\n",
        "In the box below, compare the result of the simulation with what you would expect based on the growth rate given above. Comment on the possible reasons for any differences. Discuss the behaviour of the flow in the simulation at later times and comment on the relevance to storms in the atmosphere."
      ]
    },
    {
      "cell_type": "markdown",
      "metadata": {
        "id": "aSHdKVPMYQ4Q"
      },
      "source": [
        "INSERT **COMMENTS** HERE, ~ 1 PARAGRAPH WITH OPTIONAL PLOT(S)"
      ]
    },
    {
      "cell_type": "markdown",
      "source": [
        "**My Answer:**\n",
        "\n",
        "Preliminary analysis of the plot from the simulation shows that the flow is smooth in the initial stages, gradually evolving into proto-baroclinic vortices over time. Using the growth rate equation: $$ \\sigma = U k \\left(\\frac{2/R_d^2 - k^2}{2/R_d^2 + k^2} \\right)^{1/2} $$, the estimated growth rate is $\\sigma \\approx 0.188$ for a wavenumber of $k=0.251$, which aligns with the initial observations. However, the growth rate ($\\sigma$) derived from the simulation is $\\sigma = 0.171$, which is slightly lower than expected. This difference may be attributed to nonlinear effects in the model, such as viscosity and advection, which are not captured in the growth rate calculation, where $\\sigma = 1/ \\pi \\approx 0.318$.\n",
        "\n",
        "At a later stage of the simulation, the flow evolves from simple harmonic oscillations to the formation of more complex nonlinear structures. This is similar to the process, which occurs in the formation of disturbances in a fluid environment where mild fluctuations evolve into turbulence and random circulation. There are such instabilities that are important for the atmospheric dynamics since baroclinic instabilities cause storms and turbulence."
      ],
      "metadata": {
        "id": "5JmTG46WY4Tm"
      }
    },
    {
      "cell_type": "code",
      "source": [
        "# Parameters\n",
        "Rd = 3  # Deformation radius Rd1 = Rd2\n",
        "max_k = np.sqrt(2)/Rd\n",
        "k = np.linspace(0,max_k,100)[0:-1]\n",
        "\n",
        "# calculate growth rate (σ)\n",
        "sigma = U * k * np.sqrt((2 / Rd**2 - k**2) / (2 / Rd**2 + k**2))\n",
        "\n",
        "# Plot growth rate σ vs. wavenumber k\n",
        "plt.figure(figsize=(8, 4))\n",
        "plt.plot(k, sigma, label='σ', color='b')\n",
        "plt.axvline(x=0.251, color='r', linestyle='--', label='Simulation k at 0.25')\n",
        "plt.axhline(y=0.188, color='g', linestyle='--', label='σ = 0.188 at k = 0.251')\n",
        "plt.axhline(y=0.171, color='purple', linestyle='--', label='Simulation σ at = 0.171')\n",
        "plt.title(\" Growth Rate & Wavenumber\",)\n",
        "plt.xlabel(\"k\")\n",
        "plt.ylabel(\"σ\")\n",
        "plt.legend()\n",
        "plt.show()\n"
      ],
      "metadata": {
        "id": "sowfR-fjZCxS"
      },
      "execution_count": null,
      "outputs": []
    },
    {
      "cell_type": "markdown",
      "source": [
        "**My Answer:** Cont....\n",
        "\n",
        "\n",
        "From the above plot, the blue curve corresponds to the growth rate ($\\sigma$) across different wavenumbers, and shows that the growth rate increases steeply as wavenumber($k$) increases, suggesting that those of small wavelength progress more rapidly. The red vertical line at $k=0.251$ represents the progression observed in the simulation, at which the highest disturbance is noted. The green horizontal line at $\\sigma = 0.188$ is also $\\sigma$ identified out of the model $k=0.161$ implying that the two or three-sphere model explaining\n",
        "The purple line at $\\sigma=0.171$ demonstrates the observed growth rate in the simulation. The discrepancy between the green and purple lines indicate that nonlinear phenomena such as viscosity and advection in the simulation causes a less growth rate than the theory yet the biological real life systems are full of these complexities."
      ],
      "metadata": {
        "id": "NHVcezyLZMbc"
      }
    },
    {
      "cell_type": "markdown",
      "source": [
        "**My Answer Cont:**\n",
        "\n",
        "Storms are important in the atmosphere since they aid in the distribution of energy and moisture control of the atmosphere weather and climate. They are a type of storm that forms when large volumes of warm air are carried upwards, cool and release energy. This process gives rise to convection which gives rise to seeder thunderstorms and hurricanes. Storms also flow pressure and distribute heat all across the environment, a critical component in managing weather around the globe.\n",
        "\n",
        "For example, latent heat release is represented by $Q = \\rho L (d \\theta / dt)$, where $Q$ is the energy released and baroclinic instability is governed by $dq/dt = \\nabla$ x $V$, with $q$ being potential vorticity **(Holton, 2004)**. In your simulation, similar energy transfer processes as temperature/pressure gradients could force flows a lot like storms and convection/turbulence etc..\n",
        "\n",
        "**Reference:**\n",
        "\n",
        "Holton, J. R. (2004). Dynamical Meteorology Course: An Introduction (4th ed.). Academic Press."
      ],
      "metadata": {
        "id": "gNu78ZqAZQSw"
      }
    },
    {
      "cell_type": "markdown",
      "metadata": {
        "id": "rDJAkecsYQ4R"
      },
      "source": [
        "## 2. Jet stream and the dimensional QG equations\n",
        "\n",
        "The configuration in the previous section illustrates baroclinic instability, but the setup is quite idealized. In particular, we assumed that the Coriolis parameter and the initial velocity were constant. In the atmosphere there is are strong winds at the top of the troposphere in a band called the jet stream. The jet stream is several hundred kilometers wide with wind speeds that can exceed 100 miles per hour (roughly 50 m/s). A variable Coriolis parameter is important for constraining the jet dynamics. If we use $f=f_0+\\beta y$, then the equations for $q_1$ and $q_2$ become:\n",
        "\n",
        "$$ \\partial_t(q_1) + U_1 \\partial_x(q_1) + \\partial_x(\\psi_1)\\left(\\beta + \\frac{U_1-U_2}{R_{d1}^2}\\right)+\\nu_4 \\nabla^4 q_1 = - J(\\psi_1, q_1), $$\n",
        "\n",
        "$$ \\partial_t(q_2) + U_2 \\partial_x(q_2) + \\partial_x(\\psi_2)\\left(\\beta + \\frac{U_2-U_1}{R_{d2}^2}\\right)+\\nu_4 \\nabla^4 q_2 = - J(\\psi_2, q_2). $$\n",
        "\n",
        "Here, we have also switched from a viscous term to a 'hyperviscous' term, where $-\\nabla^2 q_{1,2}$ has been replaced by $\\nabla^4 q_{1,2}$ where $\\nabla^4=(\\nabla^2)^2=(\\partial^2_x+\\partial^2_y)^2$. Using a hyperviscosity is useful because it acts to preferentially damp small scale motions (with large horizontal wavenumbers), while having less influence on the larger scale motions (with small horizontal wavenumbers). It is useful in this case since we would like the jet not to be strongly influenced by viscosity.\n",
        "\n",
        "We can simulate baroclinic instability on the jet stream by localizing the north/south gradient in the QG potential voriticty in the center of our computational domain. However, since our boundary conditions are periodic, we need the potential vorticity that we solve for to be equal at the northern and southern boundaries. We can accomplish this with the following trick. For our initial condition, let the total potential vorticity in layer 1 be:\n",
        "\n",
        "$$ q_1 = Q_1 tanh\\left(\\frac{y-Ly/2}{w}\\right) $$\n",
        "\n",
        "where $Ly$ is the domain size, $Q_1$ is a constant dimensional amplitude and $w$ is the jet width. Clearly $q_1$ isn't periodic in the y-direction. Instead, we can impose a uniform background potential vorticity gradient (as we did in Section 1 above) and solve for the departure from this background gradient. We can then set the amplitude of the background gradient to make the <em>departure</em> from the background gradient periodic. Specifically, the departure from the background potential vorticity gradient will be:\n",
        "\n",
        "$$ q_1 = Q_1 (tanh\\left(\\frac{y-Ly/2}{w}\\right) - \\frac{y-Ly/2}{Ly/2}) $$\n",
        "\n",
        "which is periodic in $y$ (check for yourself if you aren't sure), and the background potential voricity gradient will be $2Q_1/Ly$ which then ensures that the total PV is the tanh function defined above."
      ]
    },
    {
      "cell_type": "markdown",
      "metadata": {
        "id": "RWugT0NfYQ4S"
      },
      "source": [
        "### 2.1 Dedalus script\n",
        "\n",
        "The script below sets up and solves the 2-layer QG equations in dimensional units (kilometers for x, y and seconds for time). The size of the box is 30,000 km in the x-direction and 10,000 km in the y-direction. This roughly corresponds to the Northern Hemisphere, although it is important to note that the analogy is only approximate since we are still solvin the equations in a Cartesian geometry and not a sphere.\n",
        "\n",
        "Run the script below and comment on the results and the behavior of the jet stream in the text box below the script. You can also try changing some of the parameters at the top of the script to see how the result change.\n",
        "\n",
        "Note that the script will likely take a few minutes to run.  Coordinate with the other members of your group so that you can each run a different case."
      ]
    },
    {
      "cell_type": "code",
      "execution_count": null,
      "metadata": {
        "id": "VaIbrd-nYQ4S"
      },
      "outputs": [],
      "source": [
        "# Code to solve the two-layer shallow water quasi-geostrophic equations\n",
        "\n",
        "# Import the required packages\n",
        "import numpy as np\n",
        "import dedalus.public as dedalus\n",
        "import logging\n",
        "import matplotlib.pyplot as plt\n",
        "\n",
        "logger = logging.getLogger(__name__)\n",
        "\n",
        "# Set the non-dimensional parameters\n",
        "Nx = 96 # Number of gridpoints in x\n",
        "Ny = 32 # Number of gridpoints in y\n",
        "Lx = 30e3 # Domain size in x in km\n",
        "Ly = 10e3 # Domain size in y in km\n",
        "Rd1 = 500 # Deformation radius in layer 1 in km\n",
        "Rd2 = 500 # Deformation radius in layer 2 in km\n",
        "U1 = 10/1000 # Background velocity in layer 1 in km/s\n",
        "U2 = 0 # Background velocity in layer 2 in km/s\n",
        "beta = 2e-11*1000 # beta = df/dy, the North/South gradient of the Coriolis parameter in 1/km/s\n",
        "jet_width = 200\n",
        "\n",
        "#Set the hypervisocisty based on the grid spacing\n",
        "delx = Lx/Nx\n",
        "nu4 = 1e-6*delx**4\n",
        "\n",
        "# Set the timestep based on the CFL criterion\n",
        "timestep = 0.5*Lx/Nx/max(U1,U2)/20\n",
        "stop_sim_time = 2e6\n",
        "timestepper = dedalus.RK443\n",
        "\n",
        "# Bases\n",
        "coords = dedalus.CartesianCoordinates('x', 'y')\n",
        "dist = dedalus.Distributor(coords, dtype=np.float64)\n",
        "xbasis = dedalus.RealFourier(coords['x'], size=Nx, bounds=(0, Lx), dealias=3/2)\n",
        "ybasis = dedalus.RealFourier(coords['y'], size=Ny, bounds=(0, Ly), dealias=3/2)\n",
        "\n",
        "# Define the coordinates\n",
        "x, y = dist.local_grids(xbasis, ybasis)\n",
        "\n",
        "# Define the fields\n",
        "# Here psi is the streamfunction and q is the QG potential vorticity\n",
        "# \"1\" corresponds to the upper layer and \"2\" corresponds to the lower layer\n",
        "psi1 = dist.Field(name='psi1', bases=(xbasis, ybasis))\n",
        "psi2 = dist.Field(name='psi2', bases=(xbasis, ybasis))\n",
        "q1 = dist.Field(name='q1', bases=(xbasis, ybasis))\n",
        "q2 = dist.Field(name='q2', bases=(xbasis, ybasis))\n",
        "u1 = dist.Field(name='u1', bases=(xbasis, ybasis))\n",
        "v1 = dist.Field(name='v1', bases=(xbasis, ybasis))\n",
        "tau_psi1 = dist.Field(name='tau_psi1')\n",
        "\n",
        "# Create functions to use for the initial conditions and forcing\n",
        "# Here, q1_ic and q2_ic are departures from the basic state with a linear gradient\n",
        "q1_ic = dist.Field(name='q1_ic', bases=(xbasis, ybasis))\n",
        "q2_ic = dist.Field(name='q2_ic', bases=(xbasis, ybasis))\n",
        "q1_ic['g'] = (Ly/2) * ((U1-U2)/Rd1**2.0) * (np.tanh((y-Ly/2)/jet_width) - (y-Ly/2)/(Ly/2))\n",
        "q2_ic['g'] = (Ly/2) * ((U2-U1)/Rd2**2.0) * (np.tanh((y-Ly/2)/jet_width) - (y-Ly/2)/(Ly/2))\n",
        "\n",
        "# Set the initial conditions\n",
        "q1['g'] = (Ly/2) * ((U1-U2)/Rd1**2.0) * (np.tanh((y-Ly/2)/jet_width) - (y-Ly/2)/(Ly/2))\n",
        "q2['g'] = (Ly/2) * ((U2-U1)/Rd2**2.0) * (np.tanh((y-Ly/2)/jet_width) - (y-Ly/2)/(Ly/2))\n",
        "# Now, add some random noise\n",
        "q1p = dist.Field(name='q1', bases=(xbasis, ybasis))\n",
        "q2p = dist.Field(name='q2', bases=(xbasis, ybasis))\n",
        "q1p.fill_random('g', seed=42, distribution='normal', scale=1e-6) # Random noise\n",
        "q2p.fill_random('g', seed=42, distribution='normal', scale=1e-6) # Random noise\n",
        "q1['g'] += q1p['g']\n",
        "q2['g'] += q2p['g']\n",
        "\n",
        "# Define the operators that will be used to write the equations\n",
        "dx = lambda A: dedalus.Differentiate(A, coords['x'])\n",
        "dy = lambda A: dedalus.Differentiate(A, coords['y'])\n",
        "lap = lambda A: dedalus.Laplacian(A)\n",
        "J = lambda A, B: dx(A)*dy(B)-dy(A)*dx(B)\n",
        "integ = lambda A: dedalus.Integrate(A, ('x', 'y'))\n",
        "del4 = lambda A: lap(lap(A))\n",
        "\n",
        "# Define problem\n",
        "problem = dedalus.IVP([q1, q2, psi1, psi2, tau_psi1], namespace=locals())\n",
        "# Define Laplacian and Jacobian operators (to make equations easier to read)\n",
        "\n",
        "# Define problem\n",
        "problem = dedalus.IVP([q1, q2, psi1, psi2, u1, v1, tau_psi1], namespace=locals())\n",
        "\n",
        "# First, add the two equations for the evolution of the QG potential vorticity\n",
        "problem.add_equation(\"dt(q1) + U1*dx(q1) + dx(psi1)*(beta+(U1-U2)/(Rd1**2.0)) + nu4*del4(q1) = - dx(psi1)*dy(q1) + dy(psi1)*dx(q1)\")\n",
        "problem.add_equation(\"dt(q2) + U2*dx(q2) + dx(psi2)*(beta+(U2-U1)/(Rd2**2.0)) + nu4*del4(q2) = - dx(psi2)*dy(q2) + dy(psi2)*dx(q2)\")\n",
        "problem.add_equation(\"lap(psi1)-(psi1-psi2)/(Rd1**2.0)+tau_psi1=q1\")\n",
        "problem.add_equation(\"lap(psi2)+(psi1-psi2)/(Rd2**2.0)=q2\")\n",
        "\n",
        "problem.add_equation(\"u1 = -dy(psi1)\")\n",
        "problem.add_equation(\"v1 = dx(psi1)\")\n",
        "\n",
        "problem.add_equation(\"integ(psi1) = 0\")\n",
        "\n",
        "# Now, set the solver\n",
        "solver = problem.build_solver(timestepper)\n",
        "solver.stop_sim_time = stop_sim_time\n",
        "\n",
        "psi1.change_scales(1)\n",
        "psi2.change_scales(1)\n",
        "q1.change_scales(1)\n",
        "q2.change_scales(1)\n",
        "psi1_save = [np.copy(psi1['g'])];\n",
        "psi2_save = [np.copy(psi2['g'])];\n",
        "q1_save = [np.copy(q1['g'])];\n",
        "q2_save = [np.copy(q2['g'])];\n",
        "\n",
        "# Save the upper layer velocity for later plotting and analysis\n",
        "u1.change_scales(1)\n",
        "u1_save = [np.copy(u1['g'])]\n",
        "v1.change_scales(1)\n",
        "v1_save = [np.copy(v1['g'])]\n",
        "\n",
        "t_save = [solver.sim_time]; # Save the initial condition and the initial time\n",
        "# Main loop\n",
        "try:\n",
        "    logger.info('Starting main loop')\n",
        "    while solver.proceed:\n",
        "        solver.step(timestep)\n",
        "        if (solver.iteration-1) % 20 == 0:\n",
        "            logger.info('Iteration=%i, Time=%e, dt=%e' %(solver.iteration, solver.sim_time, timestep))\n",
        "            psi1.change_scales(1)\n",
        "            psi2.change_scales(1)\n",
        "            psi1_save.append(np.copy(psi1['g']))\n",
        "            psi2_save.append(np.copy(psi2['g']))\n",
        "            q1.change_scales(1)\n",
        "            q2.change_scales(1)\n",
        "            q1_save.append(np.copy(q1['g']))\n",
        "            q2_save.append(np.copy(q2['g']))\n",
        "\n",
        "            u1.change_scales(1)\n",
        "            u1_save.append(np.copy(u1['g']))\n",
        "            v1.change_scales(1)\n",
        "            v1_save.append(np.copy(v1['g']))\n",
        "\n",
        "            t_save.append(solver.sim_time)\n",
        "except:\n",
        "    logger.error('Exception raised, triggering end of main loop.')\n",
        "    raise\n",
        "finally:\n",
        "    solver.log_stats()\n",
        "\n",
        "# Convert the variables to numpy arrays for allow array slicing\n",
        "psi1_save = np.array(psi1_save)\n",
        "psi2_save = np.array(psi2_save)\n",
        "q1_save = np.array(q1_save)\n",
        "q2_save = np.array(q2_save)\n",
        "u1_save = np.array(u1_save)\n",
        "v1_save = np.array(v1_save)\n"
      ]
    },
    {
      "cell_type": "markdown",
      "metadata": {
        "id": "d-Yokb2FYQ4U"
      },
      "source": [
        "### 2.2 Visualization\n",
        "\n",
        "The script below will visualize the results and create a movie showing the upper layer wind speed (the magnitude of the velocity vector (u1, v1))."
      ]
    },
    {
      "cell_type": "code",
      "execution_count": null,
      "metadata": {
        "id": "wtgV13h5YQ4U"
      },
      "outputs": [],
      "source": [
        "# Create a movie of the results\n",
        "\n",
        "# Create a figure and axes\n",
        "fig = plt.figure(figsize=(6,6))\n",
        "\n",
        "# Create arrays with the latitude and longitude coordinates for plotting using pcolor\n",
        "from dedalus.extras import plot_tools\n",
        "(X, Y) = plot_tools.quad_mesh(np.squeeze(x), np.squeeze(y))\n",
        "(X_mesh, Y_mesh) = plot_tools.quad_mesh(np.squeeze(x[1:Nx]), np.squeeze(y[0,1:Ny]))\n",
        "\n",
        "# Define an animation function\n",
        "def drawframe(n):\n",
        "    plt.clf()\n",
        "    wind_speed = plt.pcolor(X, Y, np.sqrt(np.square(u1_save[n,:,:].T)+np.square(v1_save[n,:,:].T))*1000)#, vmin=0, vmax=100)\n",
        "    # Specify the axis limits and labels\n",
        "    plt.axis('square')\n",
        "    plt.xlabel('x (km)')\n",
        "    plt.ylabel('y (km)')\n",
        "    plt.xlim(0, Lx)\n",
        "    plt.ylim(0, Ly)\n",
        "    plt.colorbar()\n",
        "    plt.title('upper layer wind speed (m/s), time = {0:.2f} days'.format(t_save[n]/3600/24))\n",
        "    return (wind_speed,)\n",
        "\n",
        "from matplotlib import animation\n",
        "# blit=True re-draws only the parts that have changed.\n",
        "anim = animation.FuncAnimation(fig, drawframe, frames=len(t_save), interval=40, blit=True)\n",
        "\n",
        "from IPython.display import HTML\n",
        "HTML(anim.to_html5_video())"
      ]
    },
    {
      "cell_type": "markdown",
      "metadata": {
        "id": "_3mtNKV9YQ4U"
      },
      "source": [
        "### 2.3 Student investigation\n",
        "<a id='section2pt3'></a>\n",
        "Describe the results in the box below. To what extent are the results qualitatively different from what you saw using the previous script? Comment on the interaction between the jet and the storms. Which features in the simulation do you think occur in the atmosphere? Do you see any features in the simulation that you think are unrealistic? If so, explain why you think those features are unrealistic."
      ]
    },
    {
      "cell_type": "markdown",
      "metadata": {
        "id": "vrQOAQp6YQ4U"
      },
      "source": [
        "ADD **COMMENTS** HERE (1-2 PARAGRAPHS). NO NEED FOR PLOTS, BUT YOU CAN INCLUDE THEM IF YOU WANT."
      ]
    },
    {
      "cell_type": "markdown",
      "source": [
        "**My Answer:**\n",
        "\n",
        "The activity of the jet streams showed similar results as of the previous script from this simulation. These two simulations depict the formation of Rossby waves, cyclones and anticyclones and the baroclinic instability of the jet stream. These features mimic how storms are steered by the jet stream in the real atmosphere as the jet acts on storms and responds to their behavior. The increase and movement of the waves and vortices shown in the simulation are well supported to mirror other disturbances in the real atmosphere due to a certain instability in the jet.\n",
        "\n",
        "Nevertheless, there are some unrealistic aspects associated with various manipulations that are made in the framework of the model. For instance , the geometry used in the simulation is Cartesian while the geometry of the earth is spherical and the curvature of the earth has a strong implication on movement of the fluids especially the jet stream. Far from being perfect, the boundary conditions are also hypothetical, and by assuming a constant background velocity one fails to consider variability of wind at various heights. These features create natural storm interactions in a limited environment, but they are incapable of addressing the real atmosphere complexities, including surface friction and the effects of different states of the atmosphere on the jets’ behavior."
      ],
      "metadata": {
        "id": "xSx-MtmsZpBZ"
      }
    },
    {
      "cell_type": "markdown",
      "metadata": {
        "id": "pDdvZuOTYQ4U"
      },
      "source": [
        "# 3. Forced QG flow\n",
        "\n",
        "In the atmosphere, differential heating between the equator and poles maintains a north/south temperature gradient. This temperature gradient is represented by the north/south gradient in layer heights and potential vorticity in the 2-layer QG model. We can represent differential heating and cooling in the 2-layer QG model by adding terms that 'relax' the potential vorticity back to a prescribed field."
      ]
    },
    {
      "cell_type": "markdown",
      "metadata": {
        "id": "rPGNEUQkYQ4U"
      },
      "source": [
        "### 3.1 Student investigation\n",
        "<a id='section3pt1'></a>\n",
        "\n",
        "In the code box below, copy the code from Part 2 and modify it to include the following terms:\n",
        "$$ \\frac{\\partial q_1}{\\partial t} + \\ldots = \\ldots - \\frac{1}{\\tau}\\left(q_1 - q_1(t=0)\\right) $$\n",
        "\n",
        "$$ \\frac{\\partial q_2}{\\partial t} + \\ldots = \\ldots - \\frac{1}{\\tau}\\left(q_2 - q_2(t=0)\\right) $$\n",
        "\n",
        "where $q_i(t=0)$ are the initial conditions (q1_ic and q2_ic in the script) and $\\tau$ is a timescale which you should specify. A timescale of $\\tau=36$ hours should be a good starting point. In the absence of any other terms, this additional forcing term will cause $q_1$ and $q_2$ to 'relax' exponentially back to the initial conditions with an e-folding timescale equal to $\\tau$.\n",
        "\n",
        "Climate change is expected to reduce the equator to pole temperature contrast as the high latitudes warm faster than the rest of the planet. This will have impacts on the intensity and dynamics of storms. Experiment with this by changing the pole to equator gradient in the prescribed initial potential vorticity. Specify which dimensional parameter you chose to vary and discuss how it relates to the north/south temperature gradient. What happens to the jet stream and the storms as you reduce the potential vorticity gradient?"
      ]
    },
    {
      "cell_type": "markdown",
      "source": [
        "**My Answer**\n",
        "\n",
        "Reducing the equator-to-pole temperature gradient profoundly affects atmospheric dynamics, as shown by modifying the potential vorticity (PV) gradient in simulations. A weaker PV gradient, achieved by decreasing the background velocity difference $(U1-U2)$, mimics the effects of climate change\n",
        "\n",
        "The jet stream became less well-defined, with weaker and less coherent structures over time. This indicates a more meandering and fragmented jet stream while Storm systems, driven by the PV dynamics, exhibited reduced intensity and organization. This aligns with observations that a weaker temperature gradient leads to less energetic mid-latitude storms.\n",
        "\n",
        "storms also decrease with the reduction of temperature gradient. Mid-latitude storms, produced from baroclinic instability, require the temperature gradient to provide energy. When gradient is weaker, the storms are less severe, rare and shorter in duration than when the gradient is strong.\n",
        "\n",
        "Further, the location of storms moves poleward as they follow areas of lingering temperature gradients and higher jet stream velocities. As with many of the phenomena observed, these results merely demonstrated what has been witnessed in reality climate change where lower contrasts between the equator and poles lead to dynamic alteration of weather systems and storms."
      ],
      "metadata": {
        "id": "PS59IlvZZ0jY"
      }
    },
    {
      "cell_type": "code",
      "execution_count": null,
      "metadata": {
        "id": "iErHBjQaYQ4V"
      },
      "outputs": [],
      "source": [
        "# Copy and paste the code from section 2.1 here and modify to add the relaxation terms.\n",
        "# Import the required packages\n",
        "import numpy as np\n",
        "import dedalus.public as dedalus\n",
        "import logging\n",
        "import matplotlib.pyplot as plt\n",
        "\n",
        "logger = logging.getLogger(__name__)\n",
        "\n",
        "# Set the non-dimensional parameters\n",
        "Nx = 96 # Number of gridpoints in x\n",
        "Ny = 32 # Number of gridpoints in y\n",
        "Lx = 30e3 # Domain size in x in km\n",
        "Ly = 10e3 # Domain size in y in km\n",
        "Rd1 = 500 # Deformation radius in layer 1 in km #### change the Rds\n",
        "Rd2 = 500 # Deformation radius in layer 2 in km\n",
        "U1 = 10/1000 # Background velocity in layer 1 in km/s #### U is an analogue for temperature gradient I think\n",
        "U2 = 0 # Background velocity in layer 2 in km/s\n",
        "beta = 2e-11*1000 # beta = df/dy, the North/South gradient of the Coriolis parameter in 1/km/s\n",
        "jet_width = 200\n",
        "tau = 36 * 3600 #### change this bit\n",
        "\n",
        "#Set the hypervisocisty based on the grid spacing\n",
        "delx = Lx/Nx\n",
        "nu4 = 1e-6*delx**4\n",
        "\n",
        "# Set the timestep based on the CFL criterion\n",
        "timestep = 0.5*Lx/Nx/max(U1,U2)/20\n",
        "stop_sim_time = 2e6\n",
        "timestepper = dedalus.RK443\n",
        "\n",
        "# Bases\n",
        "coords = dedalus.CartesianCoordinates('x', 'y')\n",
        "dist = dedalus.Distributor(coords, dtype=np.float64)\n",
        "xbasis = dedalus.RealFourier(coords['x'], size=Nx, bounds=(0, Lx), dealias=3/2)\n",
        "ybasis = dedalus.RealFourier(coords['y'], size=Ny, bounds=(0, Ly), dealias=3/2)\n",
        "\n",
        "# Define the coordinates\n",
        "x, y = dist.local_grids(xbasis, ybasis)\n",
        "\n",
        "# Define the fields\n",
        "# Here psi is the streamfunction and q is the QG potential vorticity\n",
        "# \"1\" corresponds to the upper layer and \"2\" corresponds to the lower layer\n",
        "psi1 = dist.Field(name='psi1', bases=(xbasis, ybasis))\n",
        "psi2 = dist.Field(name='psi2', bases=(xbasis, ybasis))\n",
        "q1 = dist.Field(name='q1', bases=(xbasis, ybasis))\n",
        "q2 = dist.Field(name='q2', bases=(xbasis, ybasis))\n",
        "u1 = dist.Field(name='u1', bases=(xbasis, ybasis))\n",
        "v1 = dist.Field(name='v1', bases=(xbasis, ybasis))\n",
        "tau_psi1 = dist.Field(name='tau_psi1')\n",
        "\n",
        "# Create functions to use for the initial conditions and forcing\n",
        "# Here, q1_ic and q2_ic are departures from the basic state with a linear gradient\n",
        "q1_ic = dist.Field(name='q1_ic', bases=(xbasis, ybasis))\n",
        "q2_ic = dist.Field(name='q2_ic', bases=(xbasis, ybasis))\n",
        "q1_ic['g'] = (Ly/2) * ((U1-U2)/Rd1**2.0) * (np.tanh((y-Ly/2)/jet_width) - (y-Ly/2)/(Ly/2))\n",
        "q2_ic['g'] = (Ly/2) * ((U2-U1)/Rd2**2.0) * (np.tanh((y-Ly/2)/jet_width) - (y-Ly/2)/(Ly/2))\n",
        "\n",
        "# Set the initial conditions\n",
        "q1['g'] = (Ly/2) * ((U1-U2)/Rd1**2.0) * (np.tanh((y-Ly/2)/jet_width) - (y-Ly/2)/(Ly/2))\n",
        "q2['g'] = (Ly/2) * ((U2-U1)/Rd2**2.0) * (np.tanh((y-Ly/2)/jet_width) - (y-Ly/2)/(Ly/2))\n",
        "# Now, add some random noise\n",
        "q1p = dist.Field(name='q1', bases=(xbasis, ybasis))\n",
        "q2p = dist.Field(name='q2', bases=(xbasis, ybasis))\n",
        "q1p.fill_random('g', seed=42, distribution='normal', scale=1e-6) # Random noise\n",
        "q2p.fill_random('g', seed=42, distribution='normal', scale=1e-6) # Random noise\n",
        "q1['g'] += q1p['g']\n",
        "q2['g'] += q2p['g']\n",
        "\n",
        "# Define the operators that will be used to write the equations\n",
        "dx = lambda A: dedalus.Differentiate(A, coords['x'])\n",
        "dy = lambda A: dedalus.Differentiate(A, coords['y'])\n",
        "lap = lambda A: dedalus.Laplacian(A)\n",
        "J = lambda A, B: dx(A)*dy(B)-dy(A)*dx(B)\n",
        "integ = lambda A: dedalus.Integrate(A, ('x', 'y'))\n",
        "del4 = lambda A: lap(lap(A))\n",
        "\n",
        "# Define problem\n",
        "problem = dedalus.IVP([q1, q2, psi1, psi2, tau_psi1], namespace=locals())\n",
        "# Define Laplacian and Jacobian operators (to make equations easier to read)\n",
        "\n",
        "# Define problem\n",
        "problem = dedalus.IVP([q1, q2, psi1, psi2, u1, v1, tau_psi1], namespace=locals())\n",
        "\n",
        "# First, add the two equations for the evolution of the QG potential vorticity\n",
        "problem.add_equation(\"dt(q1) + U1*dx(q1) + dx(psi1)*(beta+(U1-U2)/(Rd1**2.0)) + nu4*del4(q1) = - dx(psi1)*dy(q1) + dy(psi1)*dx(q1) - 1/tau * (q1-q1_ic)\")\n",
        "problem.add_equation(\"dt(q2) + U2*dx(q2) + dx(psi2)*(beta+(U2-U1)/(Rd2**2.0)) + nu4*del4(q2) = - dx(psi2)*dy(q2) + dy(psi2)*dx(q2) - 1/tau * (q2-q2_ic)\")\n",
        "problem.add_equation(\"lap(psi1)-(psi1-psi2)/(Rd1**2.0)+tau_psi1=q1\")\n",
        "problem.add_equation(\"lap(psi2)+(psi1-psi2)/(Rd2**2.0)=q2\")\n",
        "\n",
        "problem.add_equation(\"u1 = -dy(psi1)\")\n",
        "problem.add_equation(\"v1 = dx(psi1)\")\n",
        "\n",
        "problem.add_equation(\"integ(psi1) = 0\")\n",
        "\n",
        "# Now, set the solver\n",
        "solver = problem.build_solver(timestepper)\n",
        "solver.stop_sim_time = stop_sim_time\n",
        "\n",
        "psi1.change_scales(1)\n",
        "psi2.change_scales(1)\n",
        "q1.change_scales(1)\n",
        "q2.change_scales(1)\n",
        "psi1_save = [np.copy(psi1['g'])];\n",
        "psi2_save = [np.copy(psi2['g'])];\n",
        "q1_save = [np.copy(q1['g'])];\n",
        "q2_save = [np.copy(q2['g'])];\n",
        "\n",
        "# Save the upper layer velocity for later plotting and analysis\n",
        "u1.change_scales(1)\n",
        "u1_save = [np.copy(u1['g'])]\n",
        "v1.change_scales(1)\n",
        "v1_save = [np.copy(v1['g'])]\n",
        "\n",
        "t_save = [solver.sim_time]; # Save the initial condition and the initial time\n",
        "# Main loop\n",
        "try:\n",
        "    logger.info('Starting main loop')\n",
        "    while solver.proceed:\n",
        "        solver.step(timestep)\n",
        "        if (solver.iteration-1) % 20 == 0:\n",
        "            logger.info('Iteration=%i, Time=%e, dt=%e' %(solver.iteration, solver.sim_time, timestep))\n",
        "            psi1.change_scales(1)\n",
        "            psi2.change_scales(1)\n",
        "            psi1_save.append(np.copy(psi1['g']))\n",
        "            psi2_save.append(np.copy(psi2['g']))\n",
        "            q1.change_scales(1)\n",
        "            q2.change_scales(1)\n",
        "            q1_save.append(np.copy(q1['g']))\n",
        "            q2_save.append(np.copy(q2['g']))\n",
        "\n",
        "            u1.change_scales(1)\n",
        "            u1_save.append(np.copy(u1['g']))\n",
        "            v1.change_scales(1)\n",
        "            v1_save.append(np.copy(v1['g']))\n",
        "\n",
        "            t_save.append(solver.sim_time)\n",
        "except:\n",
        "    logger.error('Exception raised, triggering end of main loop.')\n",
        "    raise\n",
        "finally:\n",
        "    solver.log_stats()\n",
        "\n",
        "# Convert the variables to numpy arrays for allow array slicing\n",
        "psi1_save = np.array(psi1_save)\n",
        "psi2_save = np.array(psi2_save)\n",
        "q1_save = np.array(q1_save)\n",
        "q2_save = np.array(q2_save)\n",
        "u1_save = np.array(u1_save)\n",
        "v1_save = np.array(v1_save)"
      ]
    },
    {
      "cell_type": "code",
      "source": [
        "# Also, paste the code to visualize the results (or create a new code box below)\n",
        "# Create a movie of the results\n",
        "\n",
        "# Create a figure and axes\n",
        "fig = plt.figure(figsize=(6,6))\n",
        "\n",
        "# Create arrays with the latitude and longitude coordinates for plotting using pcolor\n",
        "from dedalus.extras import plot_tools\n",
        "(X, Y) = plot_tools.quad_mesh(np.squeeze(x), np.squeeze(y))\n",
        "(X_mesh, Y_mesh) = plot_tools.quad_mesh(np.squeeze(x[1:Nx]), np.squeeze(y[0,1:Ny]))\n",
        "\n",
        "# Define an animation function\n",
        "def drawframe(n):\n",
        "    plt.clf()\n",
        "    wind_speed = plt.pcolor(X, Y, np.sqrt(np.square(u1_save[n,:,:].T)+np.square(v1_save[n,:,:].T))*1000)#, vmin=0, vmax=100)\n",
        "    # Specify the axis limits and labels\n",
        "    plt.axis('square')\n",
        "    plt.xlabel('x (km)')\n",
        "    plt.ylabel('y (km)')\n",
        "    plt.xlim(0, Lx)\n",
        "    plt.ylim(0, Ly)\n",
        "    plt.colorbar()\n",
        "    plt.title('upper layer wind speed (m/s), time = {0:.2f} days'.format(t_save[n]/3600/24))\n",
        "    return (wind_speed,)\n",
        "\n",
        "from matplotlib import animation\n",
        "# blit=True re-draws only the parts that have changed.\n",
        "anim = animation.FuncAnimation(fig, drawframe, frames=len(t_save), interval=40, blit=True)\n",
        "\n",
        "from IPython.display import HTML\n",
        "HTML(anim.to_html5_video())"
      ],
      "metadata": {
        "id": "EuOxieOpZuXv"
      },
      "execution_count": null,
      "outputs": []
    },
    {
      "cell_type": "markdown",
      "metadata": {
        "id": "McxQ6f26YQ4V"
      },
      "source": [
        "INSERT COMMENTS HERE"
      ]
    },
    {
      "cell_type": "markdown",
      "source": [
        "**My Answer:**\n",
        "\n",
        "At 22.98 days:\n",
        "\n",
        "The jet stream looks weaker or more broken up than it did earlier, it might mean the system has less energy because the temperature gradient has decreased. The shapes and movements of the eddies can also reveal how storm systems are forming and interacting over time."
      ],
      "metadata": {
        "id": "0tKfZnkMaIu2"
      }
    }
  ],
  "metadata": {
    "kernelspec": {
      "display_name": "dedalus3",
      "language": "python",
      "name": "python3"
    },
    "language_info": {
      "codemirror_mode": {
        "name": "ipython",
        "version": 3
      },
      "file_extension": ".py",
      "mimetype": "text/x-python",
      "name": "python",
      "nbconvert_exporter": "python",
      "pygments_lexer": "ipython3",
      "version": "3.12.2"
    },
    "colab": {
      "provenance": []
    }
  },
  "nbformat": 4,
  "nbformat_minor": 0
}